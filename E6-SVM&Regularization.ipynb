{
 "cells": [
  {
   "cell_type": "markdown",
   "metadata": {},
   "source": [
    "# Exercise 6\n",
    "\n",
    "## SVM & Regularization\n",
    "\n",
    "\n",
    "For this homework we consider a set of observations on a number of red and white wine varieties involving their chemical properties and ranking by tasters. Wine industry shows a recent growth spurt as social drinking is on the rise. The price of wine depends on a rather abstract concept of wine appreciation by wine tasters, opinion among whom may have a high degree of variability. Pricing of wine depends on such a volatile factor to some extent. Another key factor in wine certification and quality assessment is physicochemical tests which are laboratory-based and takes into account factors like acidity, pH level, presence of sugar and other chemical properties. For the wine market, it would be of interest if human quality of tasting can be related to the chemical properties of wine so that certification and quality assessment and assurance process is more controlled.\n",
    "\n",
    "Two datasets are available of which one dataset is on red wine and have 1599 different varieties and the other is on white wine and have 4898 varieties. All wines are produced in a particular area of Portugal. Data are collected on 12 different properties of the wines one of which is Quality, based on sensory data, and the rest are on chemical properties of the wines including density, acidity, alcohol content etc. All chemical properties of wines are continuous variables. Quality is an ordinal variable with possible ranking from 1 (worst) to 10 (best). Each variety of wine is tasted by three independent tasters and the final rank assigned is the median rank given by the tasters.\n",
    "\n",
    "A predictive model developed on this data is expected to provide guidance to vineyards regarding quality and price expected on their produce without heavy reliance on volatility of wine tasters."
   ]
  },
  {
   "cell_type": "code",
   "execution_count": 1,
   "metadata": {},
   "outputs": [],
   "source": [
    "import pandas as pd\n",
    "import numpy as np"
   ]
  },
  {
   "cell_type": "code",
   "execution_count": 2,
   "metadata": {},
   "outputs": [],
   "source": [
    "data_r = pd.read_csv('https://github.com/albahnsen/PracticalMachineLearningClass/raw/master/datasets/Wine_data_red.csv')\n",
    "data_w = pd.read_csv('https://github.com/albahnsen/PracticalMachineLearningClass/raw/master/datasets/Wine_data_white.csv')"
   ]
  },
  {
   "cell_type": "code",
   "execution_count": 3,
   "metadata": {},
   "outputs": [
    {
     "data": {
      "text/html": [
       "<div>\n",
       "<style scoped>\n",
       "    .dataframe tbody tr th:only-of-type {\n",
       "        vertical-align: middle;\n",
       "    }\n",
       "\n",
       "    .dataframe tbody tr th {\n",
       "        vertical-align: top;\n",
       "    }\n",
       "\n",
       "    .dataframe thead th {\n",
       "        text-align: right;\n",
       "    }\n",
       "</style>\n",
       "<table border=\"1\" class=\"dataframe\">\n",
       "  <thead>\n",
       "    <tr style=\"text-align: right;\">\n",
       "      <th></th>\n",
       "      <th>fixed acidity</th>\n",
       "      <th>volatile acidity</th>\n",
       "      <th>citric acid</th>\n",
       "      <th>residual sugar</th>\n",
       "      <th>chlorides</th>\n",
       "      <th>free sulfur dioxide</th>\n",
       "      <th>total sulfur dioxide</th>\n",
       "      <th>density</th>\n",
       "      <th>pH</th>\n",
       "      <th>sulphates</th>\n",
       "      <th>alcohol</th>\n",
       "      <th>quality</th>\n",
       "      <th>type</th>\n",
       "    </tr>\n",
       "  </thead>\n",
       "  <tbody>\n",
       "    <tr>\n",
       "      <th>2723</th>\n",
       "      <td>7.5</td>\n",
       "      <td>0.26</td>\n",
       "      <td>0.25</td>\n",
       "      <td>1.7</td>\n",
       "      <td>0.038</td>\n",
       "      <td>29.0</td>\n",
       "      <td>129.0</td>\n",
       "      <td>0.99312</td>\n",
       "      <td>3.45</td>\n",
       "      <td>0.56</td>\n",
       "      <td>10.4</td>\n",
       "      <td>6</td>\n",
       "      <td>white</td>\n",
       "    </tr>\n",
       "    <tr>\n",
       "      <th>3886</th>\n",
       "      <td>6.8</td>\n",
       "      <td>0.33</td>\n",
       "      <td>0.31</td>\n",
       "      <td>7.4</td>\n",
       "      <td>0.045</td>\n",
       "      <td>34.0</td>\n",
       "      <td>143.0</td>\n",
       "      <td>0.99226</td>\n",
       "      <td>3.06</td>\n",
       "      <td>0.55</td>\n",
       "      <td>12.2</td>\n",
       "      <td>6</td>\n",
       "      <td>white</td>\n",
       "    </tr>\n",
       "    <tr>\n",
       "      <th>6071</th>\n",
       "      <td>7.6</td>\n",
       "      <td>0.36</td>\n",
       "      <td>0.31</td>\n",
       "      <td>1.7</td>\n",
       "      <td>0.079</td>\n",
       "      <td>26.0</td>\n",
       "      <td>65.0</td>\n",
       "      <td>0.99716</td>\n",
       "      <td>3.46</td>\n",
       "      <td>0.62</td>\n",
       "      <td>9.5</td>\n",
       "      <td>6</td>\n",
       "      <td>red</td>\n",
       "    </tr>\n",
       "    <tr>\n",
       "      <th>461</th>\n",
       "      <td>7.0</td>\n",
       "      <td>0.25</td>\n",
       "      <td>0.29</td>\n",
       "      <td>15.2</td>\n",
       "      <td>0.047</td>\n",
       "      <td>40.0</td>\n",
       "      <td>171.0</td>\n",
       "      <td>0.99820</td>\n",
       "      <td>3.22</td>\n",
       "      <td>0.45</td>\n",
       "      <td>9.3</td>\n",
       "      <td>5</td>\n",
       "      <td>white</td>\n",
       "    </tr>\n",
       "    <tr>\n",
       "      <th>1199</th>\n",
       "      <td>7.4</td>\n",
       "      <td>0.25</td>\n",
       "      <td>0.37</td>\n",
       "      <td>6.9</td>\n",
       "      <td>0.020</td>\n",
       "      <td>14.0</td>\n",
       "      <td>93.0</td>\n",
       "      <td>0.99390</td>\n",
       "      <td>3.00</td>\n",
       "      <td>0.48</td>\n",
       "      <td>10.7</td>\n",
       "      <td>7</td>\n",
       "      <td>white</td>\n",
       "    </tr>\n",
       "  </tbody>\n",
       "</table>\n",
       "</div>"
      ],
      "text/plain": [
       "      fixed acidity  volatile acidity  citric acid  residual sugar  chlorides  \\\n",
       "2723            7.5              0.26         0.25             1.7      0.038   \n",
       "3886            6.8              0.33         0.31             7.4      0.045   \n",
       "6071            7.6              0.36         0.31             1.7      0.079   \n",
       "461             7.0              0.25         0.29            15.2      0.047   \n",
       "1199            7.4              0.25         0.37             6.9      0.020   \n",
       "\n",
       "      free sulfur dioxide  total sulfur dioxide  density    pH  sulphates  \\\n",
       "2723                 29.0                 129.0  0.99312  3.45       0.56   \n",
       "3886                 34.0                 143.0  0.99226  3.06       0.55   \n",
       "6071                 26.0                  65.0  0.99716  3.46       0.62   \n",
       "461                  40.0                 171.0  0.99820  3.22       0.45   \n",
       "1199                 14.0                  93.0  0.99390  3.00       0.48   \n",
       "\n",
       "      alcohol  quality   type  \n",
       "2723     10.4        6  white  \n",
       "3886     12.2        6  white  \n",
       "6071      9.5        6    red  \n",
       "461       9.3        5  white  \n",
       "1199     10.7        7  white  "
      ]
     },
     "execution_count": 3,
     "metadata": {},
     "output_type": "execute_result"
    }
   ],
   "source": [
    "data = data_w.assign(type = 'white')\n",
    "\n",
    "data = data.append(data_r.assign(type = 'red'), ignore_index=True)\n",
    "data.sample(5)"
   ]
  },
  {
   "cell_type": "markdown",
   "metadata": {},
   "source": [
    "# Exercise 6.1\n",
    "\n",
    "Show the frecuency table of the quality by type of wine"
   ]
  },
  {
   "cell_type": "code",
   "execution_count": 4,
   "metadata": {},
   "outputs": [
    {
     "data": {
      "text/html": [
       "<div>\n",
       "<style scoped>\n",
       "    .dataframe tbody tr th:only-of-type {\n",
       "        vertical-align: middle;\n",
       "    }\n",
       "\n",
       "    .dataframe tbody tr th {\n",
       "        vertical-align: top;\n",
       "    }\n",
       "\n",
       "    .dataframe thead th {\n",
       "        text-align: right;\n",
       "    }\n",
       "</style>\n",
       "<table border=\"1\" class=\"dataframe\">\n",
       "  <thead>\n",
       "    <tr style=\"text-align: right;\">\n",
       "      <th>type</th>\n",
       "      <th>red</th>\n",
       "      <th>white</th>\n",
       "    </tr>\n",
       "    <tr>\n",
       "      <th>quality</th>\n",
       "      <th></th>\n",
       "      <th></th>\n",
       "    </tr>\n",
       "  </thead>\n",
       "  <tbody>\n",
       "    <tr>\n",
       "      <th>3</th>\n",
       "      <td>10.0</td>\n",
       "      <td>20.0</td>\n",
       "    </tr>\n",
       "    <tr>\n",
       "      <th>4</th>\n",
       "      <td>53.0</td>\n",
       "      <td>163.0</td>\n",
       "    </tr>\n",
       "    <tr>\n",
       "      <th>5</th>\n",
       "      <td>681.0</td>\n",
       "      <td>1457.0</td>\n",
       "    </tr>\n",
       "    <tr>\n",
       "      <th>6</th>\n",
       "      <td>638.0</td>\n",
       "      <td>2198.0</td>\n",
       "    </tr>\n",
       "    <tr>\n",
       "      <th>7</th>\n",
       "      <td>199.0</td>\n",
       "      <td>880.0</td>\n",
       "    </tr>\n",
       "    <tr>\n",
       "      <th>8</th>\n",
       "      <td>18.0</td>\n",
       "      <td>175.0</td>\n",
       "    </tr>\n",
       "    <tr>\n",
       "      <th>9</th>\n",
       "      <td>NaN</td>\n",
       "      <td>5.0</td>\n",
       "    </tr>\n",
       "  </tbody>\n",
       "</table>\n",
       "</div>"
      ],
      "text/plain": [
       "type       red   white\n",
       "quality               \n",
       "3         10.0    20.0\n",
       "4         53.0   163.0\n",
       "5        681.0  1457.0\n",
       "6        638.0  2198.0\n",
       "7        199.0   880.0\n",
       "8         18.0   175.0\n",
       "9          NaN     5.0"
      ]
     },
     "execution_count": 4,
     "metadata": {},
     "output_type": "execute_result"
    }
   ],
   "source": [
    "pd.pivot_table(data,index='quality', columns='type', values='fixed acidity' , aggfunc='count')\n",
    "#df2.pivot_table(values='X',rows=['Y','Z'],cols='X',aggfunc='count')"
   ]
  },
  {
   "cell_type": "markdown",
   "metadata": {},
   "source": [
    "# SVM"
   ]
  },
  {
   "cell_type": "markdown",
   "metadata": {},
   "source": [
    "# Exercise 6.2\n",
    "\n",
    "* Standarized the features (not the quality)\n",
    "* Create a binary target for each type of wine\n",
    "* Create two Linear SVM's for the white and red wines, repectively.\n"
   ]
  },
  {
   "cell_type": "code",
   "execution_count": 5,
   "metadata": {},
   "outputs": [
    {
     "data": {
      "text/html": [
       "<div>\n",
       "<style scoped>\n",
       "    .dataframe tbody tr th:only-of-type {\n",
       "        vertical-align: middle;\n",
       "    }\n",
       "\n",
       "    .dataframe tbody tr th {\n",
       "        vertical-align: top;\n",
       "    }\n",
       "\n",
       "    .dataframe thead th {\n",
       "        text-align: right;\n",
       "    }\n",
       "</style>\n",
       "<table border=\"1\" class=\"dataframe\">\n",
       "  <thead>\n",
       "    <tr style=\"text-align: right;\">\n",
       "      <th></th>\n",
       "      <th>fixed acidity</th>\n",
       "      <th>volatile acidity</th>\n",
       "      <th>citric acid</th>\n",
       "      <th>residual sugar</th>\n",
       "      <th>chlorides</th>\n",
       "      <th>free sulfur dioxide</th>\n",
       "      <th>total sulfur dioxide</th>\n",
       "      <th>density</th>\n",
       "      <th>pH</th>\n",
       "      <th>sulphates</th>\n",
       "      <th>alcohol</th>\n",
       "      <th>quality</th>\n",
       "      <th>type</th>\n",
       "    </tr>\n",
       "  </thead>\n",
       "  <tbody>\n",
       "    <tr>\n",
       "      <th>0</th>\n",
       "      <td>7.0</td>\n",
       "      <td>0.27</td>\n",
       "      <td>0.36</td>\n",
       "      <td>20.7</td>\n",
       "      <td>0.045</td>\n",
       "      <td>45.0</td>\n",
       "      <td>170.0</td>\n",
       "      <td>1.0010</td>\n",
       "      <td>3.00</td>\n",
       "      <td>0.45</td>\n",
       "      <td>8.8</td>\n",
       "      <td>6</td>\n",
       "      <td>white</td>\n",
       "    </tr>\n",
       "    <tr>\n",
       "      <th>1</th>\n",
       "      <td>6.3</td>\n",
       "      <td>0.30</td>\n",
       "      <td>0.34</td>\n",
       "      <td>1.6</td>\n",
       "      <td>0.049</td>\n",
       "      <td>14.0</td>\n",
       "      <td>132.0</td>\n",
       "      <td>0.9940</td>\n",
       "      <td>3.30</td>\n",
       "      <td>0.49</td>\n",
       "      <td>9.5</td>\n",
       "      <td>6</td>\n",
       "      <td>white</td>\n",
       "    </tr>\n",
       "    <tr>\n",
       "      <th>2</th>\n",
       "      <td>8.1</td>\n",
       "      <td>0.28</td>\n",
       "      <td>0.40</td>\n",
       "      <td>6.9</td>\n",
       "      <td>0.050</td>\n",
       "      <td>30.0</td>\n",
       "      <td>97.0</td>\n",
       "      <td>0.9951</td>\n",
       "      <td>3.26</td>\n",
       "      <td>0.44</td>\n",
       "      <td>10.1</td>\n",
       "      <td>6</td>\n",
       "      <td>white</td>\n",
       "    </tr>\n",
       "    <tr>\n",
       "      <th>3</th>\n",
       "      <td>7.2</td>\n",
       "      <td>0.23</td>\n",
       "      <td>0.32</td>\n",
       "      <td>8.5</td>\n",
       "      <td>0.058</td>\n",
       "      <td>47.0</td>\n",
       "      <td>186.0</td>\n",
       "      <td>0.9956</td>\n",
       "      <td>3.19</td>\n",
       "      <td>0.40</td>\n",
       "      <td>9.9</td>\n",
       "      <td>6</td>\n",
       "      <td>white</td>\n",
       "    </tr>\n",
       "    <tr>\n",
       "      <th>4</th>\n",
       "      <td>7.2</td>\n",
       "      <td>0.23</td>\n",
       "      <td>0.32</td>\n",
       "      <td>8.5</td>\n",
       "      <td>0.058</td>\n",
       "      <td>47.0</td>\n",
       "      <td>186.0</td>\n",
       "      <td>0.9956</td>\n",
       "      <td>3.19</td>\n",
       "      <td>0.40</td>\n",
       "      <td>9.9</td>\n",
       "      <td>6</td>\n",
       "      <td>white</td>\n",
       "    </tr>\n",
       "  </tbody>\n",
       "</table>\n",
       "</div>"
      ],
      "text/plain": [
       "   fixed acidity  volatile acidity  citric acid  residual sugar  chlorides  \\\n",
       "0            7.0              0.27         0.36            20.7      0.045   \n",
       "1            6.3              0.30         0.34             1.6      0.049   \n",
       "2            8.1              0.28         0.40             6.9      0.050   \n",
       "3            7.2              0.23         0.32             8.5      0.058   \n",
       "4            7.2              0.23         0.32             8.5      0.058   \n",
       "\n",
       "   free sulfur dioxide  total sulfur dioxide  density    pH  sulphates  \\\n",
       "0                 45.0                 170.0   1.0010  3.00       0.45   \n",
       "1                 14.0                 132.0   0.9940  3.30       0.49   \n",
       "2                 30.0                  97.0   0.9951  3.26       0.44   \n",
       "3                 47.0                 186.0   0.9956  3.19       0.40   \n",
       "4                 47.0                 186.0   0.9956  3.19       0.40   \n",
       "\n",
       "   alcohol  quality   type  \n",
       "0      8.8        6  white  \n",
       "1      9.5        6  white  \n",
       "2     10.1        6  white  \n",
       "3      9.9        6  white  \n",
       "4      9.9        6  white  "
      ]
     },
     "execution_count": 5,
     "metadata": {},
     "output_type": "execute_result"
    }
   ],
   "source": [
    "data.head()"
   ]
  },
  {
   "cell_type": "code",
   "execution_count": 6,
   "metadata": {},
   "outputs": [
    {
     "data": {
      "text/plain": [
       "Index(['fixed acidity', 'volatile acidity', 'citric acid', 'residual sugar',\n",
       "       'chlorides', 'free sulfur dioxide', 'total sulfur dioxide', 'density',\n",
       "       'pH', 'sulphates', 'alcohol', 'quality', 'type'],\n",
       "      dtype='object')"
      ]
     },
     "execution_count": 6,
     "metadata": {},
     "output_type": "execute_result"
    }
   ],
   "source": [
    "data.columns"
   ]
  },
  {
   "cell_type": "code",
   "execution_count": 7,
   "metadata": {},
   "outputs": [
    {
     "data": {
      "text/html": [
       "<div>\n",
       "<style scoped>\n",
       "    .dataframe tbody tr th:only-of-type {\n",
       "        vertical-align: middle;\n",
       "    }\n",
       "\n",
       "    .dataframe tbody tr th {\n",
       "        vertical-align: top;\n",
       "    }\n",
       "\n",
       "    .dataframe thead th {\n",
       "        text-align: right;\n",
       "    }\n",
       "</style>\n",
       "<table border=\"1\" class=\"dataframe\">\n",
       "  <thead>\n",
       "    <tr style=\"text-align: right;\">\n",
       "      <th></th>\n",
       "      <th>fixed acidity</th>\n",
       "      <th>volatile acidity</th>\n",
       "      <th>citric acid</th>\n",
       "      <th>residual sugar</th>\n",
       "      <th>chlorides</th>\n",
       "      <th>free sulfur dioxide</th>\n",
       "      <th>total sulfur dioxide</th>\n",
       "      <th>density</th>\n",
       "      <th>pH</th>\n",
       "      <th>sulphates</th>\n",
       "      <th>alcohol</th>\n",
       "    </tr>\n",
       "  </thead>\n",
       "  <tbody>\n",
       "    <tr>\n",
       "      <th>0</th>\n",
       "      <td>-0.166089</td>\n",
       "      <td>-0.423183</td>\n",
       "      <td>0.284686</td>\n",
       "      <td>3.206929</td>\n",
       "      <td>-0.314975</td>\n",
       "      <td>0.815565</td>\n",
       "      <td>0.959976</td>\n",
       "      <td>2.102214</td>\n",
       "      <td>-1.359049</td>\n",
       "      <td>-0.546178</td>\n",
       "      <td>-1.418558</td>\n",
       "    </tr>\n",
       "    <tr>\n",
       "      <th>1</th>\n",
       "      <td>-0.706073</td>\n",
       "      <td>-0.240949</td>\n",
       "      <td>0.147046</td>\n",
       "      <td>-0.807837</td>\n",
       "      <td>-0.200790</td>\n",
       "      <td>-0.931107</td>\n",
       "      <td>0.287618</td>\n",
       "      <td>-0.232332</td>\n",
       "      <td>0.506915</td>\n",
       "      <td>-0.277351</td>\n",
       "      <td>-0.831615</td>\n",
       "    </tr>\n",
       "    <tr>\n",
       "      <th>2</th>\n",
       "      <td>0.682458</td>\n",
       "      <td>-0.362438</td>\n",
       "      <td>0.559966</td>\n",
       "      <td>0.306208</td>\n",
       "      <td>-0.172244</td>\n",
       "      <td>-0.029599</td>\n",
       "      <td>-0.331660</td>\n",
       "      <td>0.134525</td>\n",
       "      <td>0.258120</td>\n",
       "      <td>-0.613385</td>\n",
       "      <td>-0.328521</td>\n",
       "    </tr>\n",
       "    <tr>\n",
       "      <th>3</th>\n",
       "      <td>-0.011808</td>\n",
       "      <td>-0.666161</td>\n",
       "      <td>0.009406</td>\n",
       "      <td>0.642523</td>\n",
       "      <td>0.056126</td>\n",
       "      <td>0.928254</td>\n",
       "      <td>1.243074</td>\n",
       "      <td>0.301278</td>\n",
       "      <td>-0.177272</td>\n",
       "      <td>-0.882212</td>\n",
       "      <td>-0.496219</td>\n",
       "    </tr>\n",
       "    <tr>\n",
       "      <th>4</th>\n",
       "      <td>-0.011808</td>\n",
       "      <td>-0.666161</td>\n",
       "      <td>0.009406</td>\n",
       "      <td>0.642523</td>\n",
       "      <td>0.056126</td>\n",
       "      <td>0.928254</td>\n",
       "      <td>1.243074</td>\n",
       "      <td>0.301278</td>\n",
       "      <td>-0.177272</td>\n",
       "      <td>-0.882212</td>\n",
       "      <td>-0.496219</td>\n",
       "    </tr>\n",
       "  </tbody>\n",
       "</table>\n",
       "</div>"
      ],
      "text/plain": [
       "   fixed acidity  volatile acidity  citric acid  residual sugar  chlorides  \\\n",
       "0      -0.166089         -0.423183     0.284686        3.206929  -0.314975   \n",
       "1      -0.706073         -0.240949     0.147046       -0.807837  -0.200790   \n",
       "2       0.682458         -0.362438     0.559966        0.306208  -0.172244   \n",
       "3      -0.011808         -0.666161     0.009406        0.642523   0.056126   \n",
       "4      -0.011808         -0.666161     0.009406        0.642523   0.056126   \n",
       "\n",
       "   free sulfur dioxide  total sulfur dioxide   density        pH  sulphates  \\\n",
       "0             0.815565              0.959976  2.102214 -1.359049  -0.546178   \n",
       "1            -0.931107              0.287618 -0.232332  0.506915  -0.277351   \n",
       "2            -0.029599             -0.331660  0.134525  0.258120  -0.613385   \n",
       "3             0.928254              1.243074  0.301278 -0.177272  -0.882212   \n",
       "4             0.928254              1.243074  0.301278 -0.177272  -0.882212   \n",
       "\n",
       "    alcohol  \n",
       "0 -1.418558  \n",
       "1 -0.831615  \n",
       "2 -0.328521  \n",
       "3 -0.496219  \n",
       "4 -0.496219  "
      ]
     },
     "execution_count": 7,
     "metadata": {},
     "output_type": "execute_result"
    }
   ],
   "source": [
    "\n",
    "from sklearn import preprocessing\n",
    "# Nombres de las columnas obtenidos\n",
    "names = ['fixed acidity', 'volatile acidity', 'citric acid', 'residual sugar',\n",
    "       'chlorides', 'free sulfur dioxide', 'total sulfur dioxide', 'density',\n",
    "       'pH', 'sulphates', 'alcohol']\n",
    "# Scaler\n",
    "scaler = preprocessing.StandardScaler()\n",
    "# Hacer el .fit al df de las columnas seleccionadas\n",
    "scaled_df = scaler.fit_transform(data[names])\n",
    "scaled_df = pd.DataFrame(scaled_df, columns=names)\n",
    "scaled_df.head()"
   ]
  },
  {
   "cell_type": "code",
   "execution_count": 8,
   "metadata": {},
   "outputs": [
    {
     "data": {
      "text/html": [
       "<div>\n",
       "<style scoped>\n",
       "    .dataframe tbody tr th:only-of-type {\n",
       "        vertical-align: middle;\n",
       "    }\n",
       "\n",
       "    .dataframe tbody tr th {\n",
       "        vertical-align: top;\n",
       "    }\n",
       "\n",
       "    .dataframe thead th {\n",
       "        text-align: right;\n",
       "    }\n",
       "</style>\n",
       "<table border=\"1\" class=\"dataframe\">\n",
       "  <thead>\n",
       "    <tr style=\"text-align: right;\">\n",
       "      <th></th>\n",
       "      <th>fixed acidity</th>\n",
       "      <th>volatile acidity</th>\n",
       "      <th>citric acid</th>\n",
       "      <th>residual sugar</th>\n",
       "      <th>chlorides</th>\n",
       "      <th>free sulfur dioxide</th>\n",
       "      <th>total sulfur dioxide</th>\n",
       "      <th>density</th>\n",
       "      <th>pH</th>\n",
       "      <th>sulphates</th>\n",
       "      <th>alcohol</th>\n",
       "      <th>quality</th>\n",
       "      <th>type</th>\n",
       "      <th>Calidad2</th>\n",
       "      <th>White_wine</th>\n",
       "      <th>Red_wine</th>\n",
       "    </tr>\n",
       "  </thead>\n",
       "  <tbody>\n",
       "    <tr>\n",
       "      <th>0</th>\n",
       "      <td>-0.166089</td>\n",
       "      <td>-0.423183</td>\n",
       "      <td>0.284686</td>\n",
       "      <td>3.206929</td>\n",
       "      <td>-0.314975</td>\n",
       "      <td>0.815565</td>\n",
       "      <td>0.959976</td>\n",
       "      <td>2.102214</td>\n",
       "      <td>-1.359049</td>\n",
       "      <td>-0.546178</td>\n",
       "      <td>-1.418558</td>\n",
       "      <td>6</td>\n",
       "      <td>white</td>\n",
       "      <td>1</td>\n",
       "      <td>1</td>\n",
       "      <td>0</td>\n",
       "    </tr>\n",
       "    <tr>\n",
       "      <th>1</th>\n",
       "      <td>-0.706073</td>\n",
       "      <td>-0.240949</td>\n",
       "      <td>0.147046</td>\n",
       "      <td>-0.807837</td>\n",
       "      <td>-0.200790</td>\n",
       "      <td>-0.931107</td>\n",
       "      <td>0.287618</td>\n",
       "      <td>-0.232332</td>\n",
       "      <td>0.506915</td>\n",
       "      <td>-0.277351</td>\n",
       "      <td>-0.831615</td>\n",
       "      <td>6</td>\n",
       "      <td>white</td>\n",
       "      <td>1</td>\n",
       "      <td>1</td>\n",
       "      <td>0</td>\n",
       "    </tr>\n",
       "    <tr>\n",
       "      <th>2</th>\n",
       "      <td>0.682458</td>\n",
       "      <td>-0.362438</td>\n",
       "      <td>0.559966</td>\n",
       "      <td>0.306208</td>\n",
       "      <td>-0.172244</td>\n",
       "      <td>-0.029599</td>\n",
       "      <td>-0.331660</td>\n",
       "      <td>0.134525</td>\n",
       "      <td>0.258120</td>\n",
       "      <td>-0.613385</td>\n",
       "      <td>-0.328521</td>\n",
       "      <td>6</td>\n",
       "      <td>white</td>\n",
       "      <td>1</td>\n",
       "      <td>1</td>\n",
       "      <td>0</td>\n",
       "    </tr>\n",
       "    <tr>\n",
       "      <th>3</th>\n",
       "      <td>-0.011808</td>\n",
       "      <td>-0.666161</td>\n",
       "      <td>0.009406</td>\n",
       "      <td>0.642523</td>\n",
       "      <td>0.056126</td>\n",
       "      <td>0.928254</td>\n",
       "      <td>1.243074</td>\n",
       "      <td>0.301278</td>\n",
       "      <td>-0.177272</td>\n",
       "      <td>-0.882212</td>\n",
       "      <td>-0.496219</td>\n",
       "      <td>6</td>\n",
       "      <td>white</td>\n",
       "      <td>1</td>\n",
       "      <td>1</td>\n",
       "      <td>0</td>\n",
       "    </tr>\n",
       "    <tr>\n",
       "      <th>4</th>\n",
       "      <td>-0.011808</td>\n",
       "      <td>-0.666161</td>\n",
       "      <td>0.009406</td>\n",
       "      <td>0.642523</td>\n",
       "      <td>0.056126</td>\n",
       "      <td>0.928254</td>\n",
       "      <td>1.243074</td>\n",
       "      <td>0.301278</td>\n",
       "      <td>-0.177272</td>\n",
       "      <td>-0.882212</td>\n",
       "      <td>-0.496219</td>\n",
       "      <td>6</td>\n",
       "      <td>white</td>\n",
       "      <td>1</td>\n",
       "      <td>1</td>\n",
       "      <td>0</td>\n",
       "    </tr>\n",
       "  </tbody>\n",
       "</table>\n",
       "</div>"
      ],
      "text/plain": [
       "   fixed acidity  volatile acidity  citric acid  residual sugar  chlorides  \\\n",
       "0      -0.166089         -0.423183     0.284686        3.206929  -0.314975   \n",
       "1      -0.706073         -0.240949     0.147046       -0.807837  -0.200790   \n",
       "2       0.682458         -0.362438     0.559966        0.306208  -0.172244   \n",
       "3      -0.011808         -0.666161     0.009406        0.642523   0.056126   \n",
       "4      -0.011808         -0.666161     0.009406        0.642523   0.056126   \n",
       "\n",
       "   free sulfur dioxide  total sulfur dioxide   density        pH  sulphates  \\\n",
       "0             0.815565              0.959976  2.102214 -1.359049  -0.546178   \n",
       "1            -0.931107              0.287618 -0.232332  0.506915  -0.277351   \n",
       "2            -0.029599             -0.331660  0.134525  0.258120  -0.613385   \n",
       "3             0.928254              1.243074  0.301278 -0.177272  -0.882212   \n",
       "4             0.928254              1.243074  0.301278 -0.177272  -0.882212   \n",
       "\n",
       "    alcohol  quality   type  Calidad2  White_wine  Red_wine  \n",
       "0 -1.418558        6  white         1           1         0  \n",
       "1 -0.831615        6  white         1           1         0  \n",
       "2 -0.328521        6  white         1           1         0  \n",
       "3 -0.496219        6  white         1           1         0  \n",
       "4 -0.496219        6  white         1           1         0  "
      ]
     },
     "execution_count": 8,
     "metadata": {},
     "output_type": "execute_result"
    }
   ],
   "source": [
    "#####Estandarizar es normalizar para terminos del ejercicio \n",
    "##Hay que crear una nueva variable (Calidad 2)\n",
    "##Luego crear dos variables binarias\n",
    "##Partir la base en train y test para cada tipo de vino\n",
    "##Entrenar las 2 SVMs con las bases de train\n",
    "\n",
    "scaled_df['quality']=data['quality']\n",
    "scaled_df['type']=data['type']\n",
    "scaled_df['Calidad2']=np.where(scaled_df['quality']<=5,0,1)\n",
    "scaled_df['White_wine']=np.where(scaled_df['type']=='white',1,0)\n",
    "scaled_df['Red_wine']=np.where(scaled_df['type']=='red',1,0)\n",
    "scaled_df.head()"
   ]
  },
  {
   "cell_type": "code",
   "execution_count": 9,
   "metadata": {},
   "outputs": [
    {
     "name": "stdout",
     "output_type": "stream",
     "text": [
      "3428\n",
      "1470\n",
      "1119\n",
      "480\n",
      "6497\n"
     ]
    }
   ],
   "source": [
    "from sklearn.model_selection import train_test_split\n",
    "#df_3[df_3['pop'] > 5]\n",
    "\n",
    "train_white, test_white = train_test_split(scaled_df[scaled_df['type']=='white'], test_size=0.3)\n",
    "train_red, test_red = train_test_split(scaled_df[scaled_df['type']=='red'], test_size=0.3)\n",
    "print(len(train_white))\n",
    "print(len(test_white))\n",
    "print(len(train_red))\n",
    "print(len(test_red))\n",
    "print(len(scaled_df))"
   ]
  },
  {
   "cell_type": "code",
   "execution_count": 10,
   "metadata": {},
   "outputs": [],
   "source": [
    "#train_white, test_white = train_test_split(scaled_df, test_size=0.3)\n",
    "#train_red, test_red = train_test_split(scaled_df, test_size=0.3)"
   ]
  },
  {
   "cell_type": "code",
   "execution_count": 11,
   "metadata": {},
   "outputs": [],
   "source": [
    "from sklearn.svm import SVC # \"Support Vector Classifier\"\n",
    "\n",
    "feature_cols = ['fixed acidity', 'volatile acidity', 'citric acid', 'residual sugar',\n",
    "       'chlorides', 'free sulfur dioxide', 'total sulfur dioxide', 'density',\n",
    "       'pH', 'sulphates', 'alcohol']\n",
    "XW = train_white[feature_cols]\n",
    "\n",
    "yW = train_white['Calidad2']\n",
    "\n",
    "SVM_WW = SVC(kernel='linear')\n",
    "SVM_WW.fit(XW, yW)\n",
    "test_white['Calidad2_pred']=SVM_WW.predict(test_white[feature_cols])"
   ]
  },
  {
   "cell_type": "code",
   "execution_count": 12,
   "metadata": {},
   "outputs": [
    {
     "name": "stdout",
     "output_type": "stream",
     "text": [
      "La matriz de confusión es : [[226 248]\n",
      " [110 886]]\n",
      "El accuracy del modelo es: 0.7564625850340136\n"
     ]
    }
   ],
   "source": [
    "from sklearn.metrics import confusion_matrix\n",
    "from sklearn.metrics import accuracy_score\n",
    "\n",
    "print('La matriz de confusión es :',confusion_matrix(test_white['Calidad2'], test_white['Calidad2_pred']))\n",
    "print('El accuracy del modelo es:',accuracy_score(test_white['Calidad2'], test_white['Calidad2_pred']))"
   ]
  },
  {
   "cell_type": "code",
   "execution_count": 13,
   "metadata": {},
   "outputs": [],
   "source": [
    "from sklearn.svm import SVC # \"Support Vector Classifier\"\n",
    "\n",
    "feature_cols = ['fixed acidity', 'volatile acidity', 'citric acid', 'residual sugar',\n",
    "       'chlorides', 'free sulfur dioxide', 'total sulfur dioxide', 'density',\n",
    "       'pH', 'sulphates', 'alcohol']\n",
    "XR = train_red[feature_cols]\n",
    "\n",
    "yR = train_red['Calidad2']\n",
    "\n",
    "SVM_RW = SVC(kernel='linear')\n",
    "SVM_RW.fit(XR, yR)\n",
    "test_red['Calidad2_pred']=SVM_RW.predict(test_red[feature_cols])"
   ]
  },
  {
   "cell_type": "code",
   "execution_count": 14,
   "metadata": {},
   "outputs": [
    {
     "name": "stdout",
     "output_type": "stream",
     "text": [
      "La matriz de confusión es : [[171  65]\n",
      " [ 72 172]]\n",
      "El accuracy del modelo es: 0.7145833333333333\n"
     ]
    }
   ],
   "source": [
    "from sklearn.metrics import confusion_matrix\n",
    "from sklearn.metrics import accuracy_score\n",
    "\n",
    "print('La matriz de confusión es :',confusion_matrix(test_red['Calidad2'], test_red['Calidad2_pred']))\n",
    "print('El accuracy del modelo es:',accuracy_score(test_red['Calidad2'], test_red['Calidad2_pred']))"
   ]
  },
  {
   "cell_type": "markdown",
   "metadata": {},
   "source": [
    "# Exercise 6.3\n",
    "\n",
    "Test the two SVM's using the different kernels (‘poly’, ‘rbf’, ‘sigmoid’)\n"
   ]
  },
  {
   "cell_type": "markdown",
   "metadata": {},
   "source": [
    "## Con el vino blanco los diferentes kernels"
   ]
  },
  {
   "cell_type": "code",
   "execution_count": 15,
   "metadata": {},
   "outputs": [
    {
     "name": "stdout",
     "output_type": "stream",
     "text": [
      "La matriz de confusión es : [[185 289]\n",
      " [ 68 928]]\n",
      "El accuracy del modelo con kernel poly es: 0.7571428571428571\n"
     ]
    }
   ],
   "source": [
    "SVM_WW = SVC(kernel='poly')\n",
    "SVM_WW.fit(XW, yW)\n",
    "test_white['Calidad2_pred']=SVM_WW.predict(test_white[feature_cols])\n",
    "print('La matriz de confusión es :',confusion_matrix(test_white['Calidad2'], test_white['Calidad2_pred']))\n",
    "print('El accuracy del modelo con kernel poly es:',accuracy_score(test_white['Calidad2'], test_white['Calidad2_pred']))"
   ]
  },
  {
   "cell_type": "code",
   "execution_count": 16,
   "metadata": {},
   "outputs": [
    {
     "name": "stdout",
     "output_type": "stream",
     "text": [
      "La matriz de confusión es : [[265 209]\n",
      " [125 871]]\n",
      "El accuracy del modelo con kernel rbf es: 0.7727891156462585\n"
     ]
    }
   ],
   "source": [
    "SVM_WW = SVC(kernel='rbf')\n",
    "SVM_WW.fit(XW, yW)\n",
    "test_white['Calidad2_pred']=SVM_WW.predict(test_white[feature_cols])\n",
    "print('La matriz de confusión es :',confusion_matrix(test_white['Calidad2'], test_white['Calidad2_pred']))\n",
    "print('El accuracy del modelo con kernel rbf es:',accuracy_score(test_white['Calidad2'], test_white['Calidad2_pred']))"
   ]
  },
  {
   "cell_type": "code",
   "execution_count": 17,
   "metadata": {},
   "outputs": [
    {
     "name": "stdout",
     "output_type": "stream",
     "text": [
      "La matriz de confusión es : [[226 248]\n",
      " [249 747]]\n",
      "El accuracy del modelo con kernel sigmoid es: 0.6619047619047619\n"
     ]
    }
   ],
   "source": [
    "SVM_WW = SVC(kernel='sigmoid')\n",
    "SVM_WW.fit(XW, yW)\n",
    "test_white['Calidad2_pred']=SVM_WW.predict(test_white[feature_cols])\n",
    "print('La matriz de confusión es :',confusion_matrix(test_white['Calidad2'], test_white['Calidad2_pred']))\n",
    "print('El accuracy del modelo con kernel sigmoid es:',accuracy_score(test_white['Calidad2'], test_white['Calidad2_pred']))"
   ]
  },
  {
   "cell_type": "markdown",
   "metadata": {},
   "source": [
    "## Con el vino rojo los diferentes kernels"
   ]
  },
  {
   "cell_type": "code",
   "execution_count": 18,
   "metadata": {},
   "outputs": [
    {
     "name": "stdout",
     "output_type": "stream",
     "text": [
      "La matriz de confusión es : [[176  60]\n",
      " [ 70 174]]\n",
      "El accuracy del modelo con kernel poly es: 0.7291666666666666\n"
     ]
    }
   ],
   "source": [
    "SVM_RW = SVC(kernel='poly')\n",
    "SVM_RW.fit(XR, yR)\n",
    "test_red['Calidad2_pred']=SVM_RW.predict(test_red[feature_cols])\n",
    "print('La matriz de confusión es :',confusion_matrix(test_red['Calidad2'], test_red['Calidad2_pred']))\n",
    "print('El accuracy del modelo con kernel poly es:',accuracy_score(test_red['Calidad2'], test_red['Calidad2_pred']))"
   ]
  },
  {
   "cell_type": "code",
   "execution_count": 19,
   "metadata": {},
   "outputs": [
    {
     "name": "stdout",
     "output_type": "stream",
     "text": [
      "La matriz de confusión es : [[175  61]\n",
      " [ 70 174]]\n",
      "El accuracy del modelo con kernel rbf es: 0.7270833333333333\n"
     ]
    }
   ],
   "source": [
    "SVM_RW = SVC(kernel='rbf')\n",
    "SVM_RW.fit(XR, yR)\n",
    "test_red['Calidad2_pred']=SVM_RW.predict(test_red[feature_cols])\n",
    "print('La matriz de confusión es :',confusion_matrix(test_red['Calidad2'], test_red['Calidad2_pred']))\n",
    "print('El accuracy del modelo con kernel rbf es:',accuracy_score(test_red['Calidad2'], test_red['Calidad2_pred']))"
   ]
  },
  {
   "cell_type": "code",
   "execution_count": 20,
   "metadata": {},
   "outputs": [
    {
     "name": "stdout",
     "output_type": "stream",
     "text": [
      "La matriz de confusión es : [[133 103]\n",
      " [ 87 157]]\n",
      "El accuracy del modelo con kernel sigmoid es: 0.6041666666666666\n"
     ]
    }
   ],
   "source": [
    "SVM_RW = SVC(kernel='sigmoid')\n",
    "SVM_RW.fit(XR, yR)\n",
    "test_red['Calidad2_pred']=SVM_RW.predict(test_red[feature_cols])\n",
    "print('La matriz de confusión es :',confusion_matrix(test_red['Calidad2'], test_red['Calidad2_pred']))\n",
    "print('El accuracy del modelo con kernel sigmoid es:',accuracy_score(test_red['Calidad2'], test_red['Calidad2_pred']))"
   ]
  },
  {
   "cell_type": "markdown",
   "metadata": {},
   "source": [
    "La mejor SVM tomando el accuracy como métrica es en la que utilizó el vino blanco como base y con el kernel RBF"
   ]
  },
  {
   "cell_type": "markdown",
   "metadata": {},
   "source": [
    "# Exercise 6.4\n",
    "Using the best SVM find the parameters that gives the best performance\n",
    "\n",
    "'C': [0.1, 1, 10, 100, 1000], 'gamma': [0.01, 0.001, 0.0001]"
   ]
  },
  {
   "cell_type": "markdown",
   "metadata": {},
   "source": [
    "Se realizarán dos ciclos para recorrer todas las posibilidades de los parámetros"
   ]
  },
  {
   "cell_type": "code",
   "execution_count": 21,
   "metadata": {},
   "outputs": [],
   "source": [
    "output = []\n",
    "for gamma in [0.01, 0.001, 0.0001]: ####Ciclo para recorrer los diferentes parametros gamma\n",
    "    for C in [0.1, 1, 10, 100, 1000]: ###Ciclo para recorrer los diferentes parametros C\n",
    "        clf = SVC(C=C, gamma=gamma,kernel='rbf') ###Crear la SVM con los parametros y el kernel\n",
    "        clf.fit(XW, yW)###Hacer el .fit\n",
    "        test_white['Calidad2_pred']=clf.predict(test_white[feature_cols]) ##Predecir en la base test\n",
    "        accuracy=accuracy_score(test_white['Calidad2'], test_white['Calidad2_pred']) ##Obtener el accuracy de la predicción\n",
    "        output.append((C, gamma, accuracy)) ###Guardar el parametro C el gamma y la SVM"
   ]
  },
  {
   "cell_type": "code",
   "execution_count": 22,
   "metadata": {},
   "outputs": [
    {
     "data": {
      "text/plain": [
       "[(0.1, 0.01, 0.7040816326530612),\n",
       " (1, 0.01, 0.7653061224489796),\n",
       " (10, 0.01, 0.7666666666666667),\n",
       " (100, 0.01, 0.7789115646258503),\n",
       " (1000, 0.01, 0.7741496598639456),\n",
       " (0.1, 0.001, 0.6775510204081633),\n",
       " (1, 0.001, 0.7054421768707483),\n",
       " (10, 0.001, 0.7585034013605442),\n",
       " (100, 0.001, 0.7659863945578231),\n",
       " (1000, 0.001, 0.7673469387755102),\n",
       " (0.1, 0.0001, 0.6775510204081633),\n",
       " (1, 0.0001, 0.6775510204081633),\n",
       " (10, 0.0001, 0.7054421768707483),\n",
       " (100, 0.0001, 0.7585034013605442),\n",
       " (1000, 0.0001, 0.7619047619047619)]"
      ]
     },
     "execution_count": 22,
     "metadata": {},
     "output_type": "execute_result"
    }
   ],
   "source": [
    "output"
   ]
  },
  {
   "cell_type": "markdown",
   "metadata": {},
   "source": [
    "La mejor SVM que se entrena es la que tiene los parámetros C=1000 Gamma=0.01 y que da un accuracy de 78,2%"
   ]
  },
  {
   "cell_type": "markdown",
   "metadata": {},
   "source": [
    "# Exercise 6.5\n",
    "\n",
    "Compare the results with other methods"
   ]
  },
  {
   "cell_type": "code",
   "execution_count": 23,
   "metadata": {},
   "outputs": [
    {
     "name": "stdout",
     "output_type": "stream",
     "text": [
      "La matriz de confusión de la regresión logistica es : [[235 239]\n",
      " [126 870]]\n",
      "El accuracy de la regresión logistica es: 0.7517006802721088\n"
     ]
    }
   ],
   "source": [
    "#Aquí logistica\n",
    "from sklearn.linear_model import LogisticRegression\n",
    "logreg = LogisticRegression()#solver='liblinear',C=1e9)\n",
    "\n",
    "logreg.fit(XW, yW)\n",
    "test_white['Calidad2_pred']=logreg.predict(test_white[feature_cols])\n",
    "print('La matriz de confusión de la regresión logistica es :',confusion_matrix(test_white['Calidad2'], test_white['Calidad2_pred']))\n",
    "print('El accuracy de la regresión logistica es:',accuracy_score(test_white['Calidad2'], test_white['Calidad2_pred']))"
   ]
  },
  {
   "cell_type": "markdown",
   "metadata": {},
   "source": [
    "El accuracy de la regresión logística es inferior al obtenido cuando se utilizó la mejor SVM, aún así es importante tener en cuenta que para la SVM se corrieron múltiples modelos con diferentes kernel y también se buscó optimizar los parámetros de C y gamma mientras que la regresión logística sólo fue corrida una vez sin ningún tipo de variación en el solver ni ajuste"
   ]
  },
  {
   "cell_type": "markdown",
   "metadata": {},
   "source": [
    "# Regularization"
   ]
  },
  {
   "cell_type": "markdown",
   "metadata": {},
   "source": [
    "# Exercise 6.6\n",
    "\n",
    "\n",
    "* Train a linear regression to predict wine quality (Continous)\n",
    "\n",
    "* Analyze the coefficients\n",
    "\n",
    "* Evaluate the RMSE"
   ]
  },
  {
   "cell_type": "markdown",
   "metadata": {},
   "source": [
    "Entrenar el modelo de regresión lineal"
   ]
  },
  {
   "cell_type": "code",
   "execution_count": 24,
   "metadata": {},
   "outputs": [],
   "source": [
    "import warnings\n",
    "warnings.filterwarnings(\"ignore\")"
   ]
  },
  {
   "cell_type": "code",
   "execution_count": 25,
   "metadata": {},
   "outputs": [],
   "source": [
    "###Quiero predecir continuamente la calidad continua\n",
    "from sklearn.linear_model import LinearRegression\n",
    "train, test = train_test_split(scaled_df, test_size=0.3)\n",
    "\n",
    "linreg = LinearRegression()\n",
    "\n",
    "X = train[feature_cols]\n",
    "y = train['quality']\n",
    "linreg.fit(X, y)\n",
    "test['quality_pred']=linreg.predict(test[feature_cols])\n",
    "\n",
    "#test['quality'] = test['quality'].astype(float)"
   ]
  },
  {
   "cell_type": "markdown",
   "metadata": {},
   "source": [
    "Revisar los coeficientes"
   ]
  },
  {
   "cell_type": "code",
   "execution_count": 26,
   "metadata": {},
   "outputs": [
    {
     "data": {
      "text/html": [
       "<div>\n",
       "<style scoped>\n",
       "    .dataframe tbody tr th:only-of-type {\n",
       "        vertical-align: middle;\n",
       "    }\n",
       "\n",
       "    .dataframe tbody tr th {\n",
       "        vertical-align: top;\n",
       "    }\n",
       "\n",
       "    .dataframe thead th {\n",
       "        text-align: right;\n",
       "    }\n",
       "</style>\n",
       "<table border=\"1\" class=\"dataframe\">\n",
       "  <thead>\n",
       "    <tr style=\"text-align: right;\">\n",
       "      <th></th>\n",
       "      <th>0</th>\n",
       "      <th>1</th>\n",
       "    </tr>\n",
       "  </thead>\n",
       "  <tbody>\n",
       "    <tr>\n",
       "      <th>0</th>\n",
       "      <td>fixed acidity</td>\n",
       "      <td>0.103056</td>\n",
       "    </tr>\n",
       "    <tr>\n",
       "      <th>1</th>\n",
       "      <td>volatile acidity</td>\n",
       "      <td>-0.212806</td>\n",
       "    </tr>\n",
       "    <tr>\n",
       "      <th>2</th>\n",
       "      <td>citric acid</td>\n",
       "      <td>-0.007211</td>\n",
       "    </tr>\n",
       "    <tr>\n",
       "      <th>3</th>\n",
       "      <td>residual sugar</td>\n",
       "      <td>0.224335</td>\n",
       "    </tr>\n",
       "    <tr>\n",
       "      <th>4</th>\n",
       "      <td>chlorides</td>\n",
       "      <td>-0.015724</td>\n",
       "    </tr>\n",
       "    <tr>\n",
       "      <th>5</th>\n",
       "      <td>free sulfur dioxide</td>\n",
       "      <td>0.107133</td>\n",
       "    </tr>\n",
       "    <tr>\n",
       "      <th>6</th>\n",
       "      <td>total sulfur dioxide</td>\n",
       "      <td>-0.154235</td>\n",
       "    </tr>\n",
       "    <tr>\n",
       "      <th>7</th>\n",
       "      <td>density</td>\n",
       "      <td>-0.190775</td>\n",
       "    </tr>\n",
       "    <tr>\n",
       "      <th>8</th>\n",
       "      <td>pH</td>\n",
       "      <td>0.085701</td>\n",
       "    </tr>\n",
       "    <tr>\n",
       "      <th>9</th>\n",
       "      <td>sulphates</td>\n",
       "      <td>0.109212</td>\n",
       "    </tr>\n",
       "    <tr>\n",
       "      <th>10</th>\n",
       "      <td>alcohol</td>\n",
       "      <td>0.302092</td>\n",
       "    </tr>\n",
       "  </tbody>\n",
       "</table>\n",
       "</div>"
      ],
      "text/plain": [
       "                       0         1\n",
       "0          fixed acidity  0.103056\n",
       "1       volatile acidity -0.212806\n",
       "2            citric acid -0.007211\n",
       "3         residual sugar  0.224335\n",
       "4              chlorides -0.015724\n",
       "5    free sulfur dioxide  0.107133\n",
       "6   total sulfur dioxide -0.154235\n",
       "7                density -0.190775\n",
       "8                     pH  0.085701\n",
       "9              sulphates  0.109212\n",
       "10               alcohol  0.302092"
      ]
     },
     "execution_count": 26,
     "metadata": {},
     "output_type": "execute_result"
    }
   ],
   "source": [
    "#coef=list(linreg.coef_)\n",
    "#cols=list(feature_cols)\n",
    "\n",
    "coeficientes_lin=pd.DataFrame(np.transpose(linreg.coef_))\n",
    "cols=pd.DataFrame(np.transpose(feature_cols))\n",
    "coeficientes=pd.concat([cols, coeficientes_lin], axis=1, ignore_index=True)\n",
    "coeficientes"
   ]
  },
  {
   "cell_type": "markdown",
   "metadata": {},
   "source": [
    "Se puede inferir que las variables que las variables que más impactan el resultado son residual sugar y alcohol de manera directamente proporcional al resultado y de manera inversamente proporcional serían density y volatile acidity"
   ]
  },
  {
   "cell_type": "markdown",
   "metadata": {},
   "source": [
    "Calcular el RMSE"
   ]
  },
  {
   "cell_type": "code",
   "execution_count": 27,
   "metadata": {},
   "outputs": [
    {
     "name": "stdout",
     "output_type": "stream",
     "text": [
      "RMSE: 0.7435872112477134\n"
     ]
    }
   ],
   "source": [
    "from sklearn import metrics\n",
    "from math import sqrt\n",
    "MSE_lineal=metrics.mean_squared_error(test['quality'], test['quality_pred'])\n",
    "RMSE=sqrt(MSE_lineal)\n",
    "print('RMSE:', RMSE)"
   ]
  },
  {
   "cell_type": "markdown",
   "metadata": {},
   "source": [
    "# Exercise 6.7\n",
    "\n",
    "* Estimate a ridge regression with alpha equals 0.1 and 1.\n",
    "* Compare the coefficients with the linear regression\n",
    "* Evaluate the RMSE"
   ]
  },
  {
   "cell_type": "code",
   "execution_count": 28,
   "metadata": {},
   "outputs": [
    {
     "name": "stdout",
     "output_type": "stream",
     "text": [
      "RMSE para modelo ridge con alpha 0.1: 0.743586492233314\n"
     ]
    }
   ],
   "source": [
    "#Comparar lineal vs ridge\n",
    "# alpha=0 is equivalent to linear regression\n",
    "from sklearn.linear_model import Ridge\n",
    "ridgereg = Ridge(alpha=0.1)\n",
    "ridgereg.fit(X, y)\n",
    "test['quality_pred'] = ridgereg.predict(test[feature_cols])\n",
    "print('RMSE para modelo ridge con alpha 0.1:',np.sqrt(metrics.mean_squared_error(test['quality'], test['quality_pred'])))\n",
    "coeficientes_rid_01=pd.DataFrame(np.transpose(ridgereg.coef_))"
   ]
  },
  {
   "cell_type": "code",
   "execution_count": 29,
   "metadata": {},
   "outputs": [
    {
     "name": "stdout",
     "output_type": "stream",
     "text": [
      "RMSE para modelo ridge con alpha 1: 0.743580109213147\n"
     ]
    }
   ],
   "source": [
    "ridgereg = Ridge(alpha=1)\n",
    "ridgereg.fit(X, y)\n",
    "test['quality_pred'] = ridgereg.predict(test[feature_cols])\n",
    "print('RMSE para modelo ridge con alpha 1:',np.sqrt(metrics.mean_squared_error(test['quality'], test['quality_pred'])))\n",
    "coeficientes_rid_1=pd.DataFrame(np.transpose(ridgereg.coef_))"
   ]
  },
  {
   "cell_type": "code",
   "execution_count": 30,
   "metadata": {},
   "outputs": [
    {
     "data": {
      "text/html": [
       "<div>\n",
       "<style scoped>\n",
       "    .dataframe tbody tr th:only-of-type {\n",
       "        vertical-align: middle;\n",
       "    }\n",
       "\n",
       "    .dataframe tbody tr th {\n",
       "        vertical-align: top;\n",
       "    }\n",
       "\n",
       "    .dataframe thead th {\n",
       "        text-align: right;\n",
       "    }\n",
       "</style>\n",
       "<table border=\"1\" class=\"dataframe\">\n",
       "  <thead>\n",
       "    <tr style=\"text-align: right;\">\n",
       "      <th></th>\n",
       "      <th>Columna</th>\n",
       "      <th>Coeficiente lineal</th>\n",
       "      <th>Coeficiente Ridge 0,1</th>\n",
       "      <th>Coeficiente Ridge 0,1</th>\n",
       "    </tr>\n",
       "  </thead>\n",
       "  <tbody>\n",
       "    <tr>\n",
       "      <th>0</th>\n",
       "      <td>fixed acidity</td>\n",
       "      <td>0.103056</td>\n",
       "      <td>0.103011</td>\n",
       "      <td>0.102609</td>\n",
       "    </tr>\n",
       "    <tr>\n",
       "      <th>1</th>\n",
       "      <td>volatile acidity</td>\n",
       "      <td>-0.212806</td>\n",
       "      <td>-0.212807</td>\n",
       "      <td>-0.212818</td>\n",
       "    </tr>\n",
       "    <tr>\n",
       "      <th>2</th>\n",
       "      <td>citric acid</td>\n",
       "      <td>-0.007211</td>\n",
       "      <td>-0.007207</td>\n",
       "      <td>-0.007163</td>\n",
       "    </tr>\n",
       "    <tr>\n",
       "      <th>3</th>\n",
       "      <td>residual sugar</td>\n",
       "      <td>0.224335</td>\n",
       "      <td>0.224270</td>\n",
       "      <td>0.223691</td>\n",
       "    </tr>\n",
       "    <tr>\n",
       "      <th>4</th>\n",
       "      <td>chlorides</td>\n",
       "      <td>-0.015724</td>\n",
       "      <td>-0.015733</td>\n",
       "      <td>-0.015813</td>\n",
       "    </tr>\n",
       "    <tr>\n",
       "      <th>5</th>\n",
       "      <td>free sulfur dioxide</td>\n",
       "      <td>0.107133</td>\n",
       "      <td>0.107126</td>\n",
       "      <td>0.107057</td>\n",
       "    </tr>\n",
       "    <tr>\n",
       "      <th>6</th>\n",
       "      <td>total sulfur dioxide</td>\n",
       "      <td>-0.154235</td>\n",
       "      <td>-0.154218</td>\n",
       "      <td>-0.154065</td>\n",
       "    </tr>\n",
       "    <tr>\n",
       "      <th>7</th>\n",
       "      <td>density</td>\n",
       "      <td>-0.190775</td>\n",
       "      <td>-0.190690</td>\n",
       "      <td>-0.189932</td>\n",
       "    </tr>\n",
       "    <tr>\n",
       "      <th>8</th>\n",
       "      <td>pH</td>\n",
       "      <td>0.085701</td>\n",
       "      <td>0.085673</td>\n",
       "      <td>0.085426</td>\n",
       "    </tr>\n",
       "    <tr>\n",
       "      <th>9</th>\n",
       "      <td>sulphates</td>\n",
       "      <td>0.109212</td>\n",
       "      <td>0.109202</td>\n",
       "      <td>0.109110</td>\n",
       "    </tr>\n",
       "    <tr>\n",
       "      <th>10</th>\n",
       "      <td>alcohol</td>\n",
       "      <td>0.302092</td>\n",
       "      <td>0.302120</td>\n",
       "      <td>0.302372</td>\n",
       "    </tr>\n",
       "  </tbody>\n",
       "</table>\n",
       "</div>"
      ],
      "text/plain": [
       "                 Columna  Coeficiente lineal  Coeficiente Ridge 0,1  \\\n",
       "0          fixed acidity            0.103056               0.103011   \n",
       "1       volatile acidity           -0.212806              -0.212807   \n",
       "2            citric acid           -0.007211              -0.007207   \n",
       "3         residual sugar            0.224335               0.224270   \n",
       "4              chlorides           -0.015724              -0.015733   \n",
       "5    free sulfur dioxide            0.107133               0.107126   \n",
       "6   total sulfur dioxide           -0.154235              -0.154218   \n",
       "7                density           -0.190775              -0.190690   \n",
       "8                     pH            0.085701               0.085673   \n",
       "9              sulphates            0.109212               0.109202   \n",
       "10               alcohol            0.302092               0.302120   \n",
       "\n",
       "    Coeficiente Ridge 0,1  \n",
       "0                0.102609  \n",
       "1               -0.212818  \n",
       "2               -0.007163  \n",
       "3                0.223691  \n",
       "4               -0.015813  \n",
       "5                0.107057  \n",
       "6               -0.154065  \n",
       "7               -0.189932  \n",
       "8                0.085426  \n",
       "9                0.109110  \n",
       "10               0.302372  "
      ]
     },
     "execution_count": 30,
     "metadata": {},
     "output_type": "execute_result"
    }
   ],
   "source": [
    "coeficientes=pd.concat([cols,coeficientes_lin, coeficientes_rid_01,coeficientes_rid_1], axis=1, ignore_index=True)\n",
    "coeficientes.columns=(['Columna','Coeficiente lineal','Coeficiente Ridge 0,1','Coeficiente Ridge 0,1'])\n",
    "coeficientes"
   ]
  },
  {
   "cell_type": "markdown",
   "metadata": {},
   "source": [
    "Para el caso de la regresión ridge varios de los coeficientes disminuyeron considerablemente su valor como por ejemplo el de residual sugar para los que son directamente proporcionales y el de density para los que son inversamente proporcionales"
   ]
  },
  {
   "cell_type": "markdown",
   "metadata": {},
   "source": [
    "El RMSE es muy similar en ambos casos de la regresión ridge de alpha 0.1 y alpha 1 al igual que con la regresión lineal"
   ]
  },
  {
   "cell_type": "markdown",
   "metadata": {},
   "source": [
    "# Exercise 6.8\n",
    "\n",
    "* Estimate a lasso regression with alpha equals 0.01, 0.1 and 1.\n",
    "* Compare the coefficients with the linear regression\n",
    "* Evaluate the RMSE"
   ]
  },
  {
   "cell_type": "code",
   "execution_count": 31,
   "metadata": {},
   "outputs": [
    {
     "name": "stdout",
     "output_type": "stream",
     "text": [
      "RMSE para modelo Lasso con alpha 0,01: 0.7443644248275202\n"
     ]
    }
   ],
   "source": [
    "#Comparar lineal vs lasso\n",
    "from sklearn.linear_model import Lasso\n",
    "lassoreg = Lasso(alpha=0.01)\n",
    "lassoreg.fit(X, y)\n",
    "test['quality_pred'] = lassoreg.predict(test[feature_cols])\n",
    "\n",
    "print('RMSE para modelo Lasso con alpha 0,01:',np.sqrt(metrics.mean_squared_error(test['quality'], test['quality_pred'])))\n",
    "coeficientes_lasso_001=pd.DataFrame(np.transpose(lassoreg.coef_))"
   ]
  },
  {
   "cell_type": "code",
   "execution_count": 32,
   "metadata": {},
   "outputs": [
    {
     "name": "stdout",
     "output_type": "stream",
     "text": [
      "RMSE para modelo Lasso con alpha 0,1: 0.7740728336413819\n"
     ]
    }
   ],
   "source": [
    "lassoreg = Lasso(alpha=0.1)\n",
    "lassoreg.fit(X, y)\n",
    "test['quality_pred'] = lassoreg.predict(test[feature_cols])\n",
    "\n",
    "print('RMSE para modelo Lasso con alpha 0,1:',np.sqrt(metrics.mean_squared_error(test['quality'], test['quality_pred'])))\n",
    "coeficientes_lasso_01=pd.DataFrame(np.transpose(lassoreg.coef_))"
   ]
  },
  {
   "cell_type": "code",
   "execution_count": 33,
   "metadata": {},
   "outputs": [
    {
     "name": "stdout",
     "output_type": "stream",
     "text": [
      "RMSE para modelo Lasso con alpha 1: 0.881476940214876\n"
     ]
    }
   ],
   "source": [
    "lassoreg = Lasso(alpha=1)\n",
    "lassoreg.fit(X, y)\n",
    "test['quality_pred'] = lassoreg.predict(test[feature_cols])\n",
    "\n",
    "print('RMSE para modelo Lasso con alpha 1:',np.sqrt(metrics.mean_squared_error(test['quality'], test['quality_pred'])))\n",
    "coeficientes_lasso_1=pd.DataFrame(np.transpose(lassoreg.coef_))"
   ]
  },
  {
   "cell_type": "code",
   "execution_count": 34,
   "metadata": {},
   "outputs": [
    {
     "data": {
      "text/html": [
       "<div>\n",
       "<style scoped>\n",
       "    .dataframe tbody tr th:only-of-type {\n",
       "        vertical-align: middle;\n",
       "    }\n",
       "\n",
       "    .dataframe tbody tr th {\n",
       "        vertical-align: top;\n",
       "    }\n",
       "\n",
       "    .dataframe thead th {\n",
       "        text-align: right;\n",
       "    }\n",
       "</style>\n",
       "<table border=\"1\" class=\"dataframe\">\n",
       "  <thead>\n",
       "    <tr style=\"text-align: right;\">\n",
       "      <th></th>\n",
       "      <th>Columna</th>\n",
       "      <th>Coeficiente lineal</th>\n",
       "      <th>Coeficiente Lasso 0,01</th>\n",
       "      <th>Coeficiente Lasso 0,1</th>\n",
       "      <th>Coeficiente Lasso 1</th>\n",
       "    </tr>\n",
       "  </thead>\n",
       "  <tbody>\n",
       "    <tr>\n",
       "      <th>0</th>\n",
       "      <td>fixed acidity</td>\n",
       "      <td>0.103056</td>\n",
       "      <td>0.000000</td>\n",
       "      <td>-0.000000</td>\n",
       "      <td>-0.0</td>\n",
       "    </tr>\n",
       "    <tr>\n",
       "      <th>1</th>\n",
       "      <td>volatile acidity</td>\n",
       "      <td>-0.212806</td>\n",
       "      <td>-0.218995</td>\n",
       "      <td>-0.115409</td>\n",
       "      <td>-0.0</td>\n",
       "    </tr>\n",
       "    <tr>\n",
       "      <th>2</th>\n",
       "      <td>citric acid</td>\n",
       "      <td>-0.007211</td>\n",
       "      <td>-0.000000</td>\n",
       "      <td>0.000000</td>\n",
       "      <td>0.0</td>\n",
       "    </tr>\n",
       "    <tr>\n",
       "      <th>3</th>\n",
       "      <td>residual sugar</td>\n",
       "      <td>0.224335</td>\n",
       "      <td>0.082030</td>\n",
       "      <td>0.000000</td>\n",
       "      <td>-0.0</td>\n",
       "    </tr>\n",
       "    <tr>\n",
       "      <th>4</th>\n",
       "      <td>chlorides</td>\n",
       "      <td>-0.015724</td>\n",
       "      <td>-0.016753</td>\n",
       "      <td>-0.000000</td>\n",
       "      <td>-0.0</td>\n",
       "    </tr>\n",
       "    <tr>\n",
       "      <th>5</th>\n",
       "      <td>free sulfur dioxide</td>\n",
       "      <td>0.107133</td>\n",
       "      <td>0.075905</td>\n",
       "      <td>0.000000</td>\n",
       "      <td>0.0</td>\n",
       "    </tr>\n",
       "    <tr>\n",
       "      <th>6</th>\n",
       "      <td>total sulfur dioxide</td>\n",
       "      <td>-0.154235</td>\n",
       "      <td>-0.100844</td>\n",
       "      <td>-0.000000</td>\n",
       "      <td>-0.0</td>\n",
       "    </tr>\n",
       "    <tr>\n",
       "      <th>7</th>\n",
       "      <td>density</td>\n",
       "      <td>-0.190775</td>\n",
       "      <td>-0.000000</td>\n",
       "      <td>-0.000000</td>\n",
       "      <td>-0.0</td>\n",
       "    </tr>\n",
       "    <tr>\n",
       "      <th>8</th>\n",
       "      <td>pH</td>\n",
       "      <td>0.085701</td>\n",
       "      <td>0.018459</td>\n",
       "      <td>0.000000</td>\n",
       "      <td>0.0</td>\n",
       "    </tr>\n",
       "    <tr>\n",
       "      <th>9</th>\n",
       "      <td>sulphates</td>\n",
       "      <td>0.109212</td>\n",
       "      <td>0.078292</td>\n",
       "      <td>0.000000</td>\n",
       "      <td>0.0</td>\n",
       "    </tr>\n",
       "    <tr>\n",
       "      <th>10</th>\n",
       "      <td>alcohol</td>\n",
       "      <td>0.302092</td>\n",
       "      <td>0.377833</td>\n",
       "      <td>0.282906</td>\n",
       "      <td>0.0</td>\n",
       "    </tr>\n",
       "  </tbody>\n",
       "</table>\n",
       "</div>"
      ],
      "text/plain": [
       "                 Columna  Coeficiente lineal  Coeficiente Lasso 0,01  \\\n",
       "0          fixed acidity            0.103056                0.000000   \n",
       "1       volatile acidity           -0.212806               -0.218995   \n",
       "2            citric acid           -0.007211               -0.000000   \n",
       "3         residual sugar            0.224335                0.082030   \n",
       "4              chlorides           -0.015724               -0.016753   \n",
       "5    free sulfur dioxide            0.107133                0.075905   \n",
       "6   total sulfur dioxide           -0.154235               -0.100844   \n",
       "7                density           -0.190775               -0.000000   \n",
       "8                     pH            0.085701                0.018459   \n",
       "9              sulphates            0.109212                0.078292   \n",
       "10               alcohol            0.302092                0.377833   \n",
       "\n",
       "    Coeficiente Lasso 0,1  Coeficiente Lasso 1  \n",
       "0               -0.000000                 -0.0  \n",
       "1               -0.115409                 -0.0  \n",
       "2                0.000000                  0.0  \n",
       "3                0.000000                 -0.0  \n",
       "4               -0.000000                 -0.0  \n",
       "5                0.000000                  0.0  \n",
       "6               -0.000000                 -0.0  \n",
       "7               -0.000000                 -0.0  \n",
       "8                0.000000                  0.0  \n",
       "9                0.000000                  0.0  \n",
       "10               0.282906                  0.0  "
      ]
     },
     "execution_count": 34,
     "metadata": {},
     "output_type": "execute_result"
    }
   ],
   "source": [
    "coeficientes_las=pd.DataFrame(np.transpose(lassoreg.coef_))\n",
    "coeficientes=pd.concat([cols,coeficientes_lin, coeficientes_lasso_001,coeficientes_lasso_01,coeficientes_lasso_1], axis=1, ignore_index=True)\n",
    "coeficientes.columns=(['Columna','Coeficiente lineal','Coeficiente Lasso 0,01','Coeficiente Lasso 0,1','Coeficiente Lasso 1'])\n",
    "coeficientes"
   ]
  },
  {
   "cell_type": "markdown",
   "metadata": {},
   "source": [
    "Los coeficientes de la regresión de Lasso son cada vez más pequeños al incrementar el valor de alpha, esto hace también que el RMSE sea cada vez mayor lo que quiere decir que las predicciones son menos cada vez menos ajustadas a la realidad"
   ]
  },
  {
   "cell_type": "markdown",
   "metadata": {},
   "source": [
    "# Exercise 6.9\n",
    "\n",
    "* Create a binary target\n",
    "\n",
    "* Train a logistic regression to predict wine quality (binary)\n",
    "\n",
    "* Analyze the coefficients\n",
    "\n",
    "* Evaluate the f1score"
   ]
  },
  {
   "cell_type": "code",
   "execution_count": 35,
   "metadata": {},
   "outputs": [
    {
     "name": "stdout",
     "output_type": "stream",
     "text": [
      "La matriz de confusión de la regresión logistica es : [[ 417  318]\n",
      " [ 193 1022]]\n",
      "El accuracy de la regresión logistica es: 0.737948717948718\n"
     ]
    }
   ],
   "source": [
    "#El binary target es el mismo del principio\n",
    "#Aquí logistica\n",
    "from sklearn.linear_model import LogisticRegression\n",
    "logreg = LogisticRegression()#solver='liblinear',C=1e9)\n",
    "\n",
    "X = train[feature_cols]\n",
    "y = train['Calidad2']\n",
    "\n",
    "logreg.fit(X, y)\n",
    "test['Calidad2_pred']=logreg.predict(test[feature_cols])\n",
    "print('La matriz de confusión de la regresión logistica es :',confusion_matrix(test['Calidad2'], test['Calidad2_pred']))\n",
    "print('El accuracy de la regresión logistica es:',accuracy_score(test['Calidad2'], test['Calidad2_pred']))"
   ]
  },
  {
   "cell_type": "code",
   "execution_count": 36,
   "metadata": {},
   "outputs": [
    {
     "data": {
      "text/html": [
       "<div>\n",
       "<style scoped>\n",
       "    .dataframe tbody tr th:only-of-type {\n",
       "        vertical-align: middle;\n",
       "    }\n",
       "\n",
       "    .dataframe tbody tr th {\n",
       "        vertical-align: top;\n",
       "    }\n",
       "\n",
       "    .dataframe thead th {\n",
       "        text-align: right;\n",
       "    }\n",
       "</style>\n",
       "<table border=\"1\" class=\"dataframe\">\n",
       "  <thead>\n",
       "    <tr style=\"text-align: right;\">\n",
       "      <th></th>\n",
       "      <th>0</th>\n",
       "      <th>1</th>\n",
       "    </tr>\n",
       "  </thead>\n",
       "  <tbody>\n",
       "    <tr>\n",
       "      <th>0</th>\n",
       "      <td>fixed acidity</td>\n",
       "      <td>0.125376</td>\n",
       "    </tr>\n",
       "    <tr>\n",
       "      <th>1</th>\n",
       "      <td>volatile acidity</td>\n",
       "      <td>-0.731992</td>\n",
       "    </tr>\n",
       "    <tr>\n",
       "      <th>2</th>\n",
       "      <td>citric acid</td>\n",
       "      <td>-0.050533</td>\n",
       "    </tr>\n",
       "    <tr>\n",
       "      <th>3</th>\n",
       "      <td>residual sugar</td>\n",
       "      <td>0.425001</td>\n",
       "    </tr>\n",
       "    <tr>\n",
       "      <th>4</th>\n",
       "      <td>chlorides</td>\n",
       "      <td>-0.043206</td>\n",
       "    </tr>\n",
       "    <tr>\n",
       "      <th>5</th>\n",
       "      <td>free sulfur dioxide</td>\n",
       "      <td>0.285432</td>\n",
       "    </tr>\n",
       "    <tr>\n",
       "      <th>6</th>\n",
       "      <td>total sulfur dioxide</td>\n",
       "      <td>-0.455986</td>\n",
       "    </tr>\n",
       "    <tr>\n",
       "      <th>7</th>\n",
       "      <td>density</td>\n",
       "      <td>-0.183590</td>\n",
       "    </tr>\n",
       "    <tr>\n",
       "      <th>8</th>\n",
       "      <td>pH</td>\n",
       "      <td>0.158919</td>\n",
       "    </tr>\n",
       "    <tr>\n",
       "      <th>9</th>\n",
       "      <td>sulphates</td>\n",
       "      <td>0.307096</td>\n",
       "    </tr>\n",
       "    <tr>\n",
       "      <th>10</th>\n",
       "      <td>alcohol</td>\n",
       "      <td>0.993470</td>\n",
       "    </tr>\n",
       "  </tbody>\n",
       "</table>\n",
       "</div>"
      ],
      "text/plain": [
       "                       0         1\n",
       "0          fixed acidity  0.125376\n",
       "1       volatile acidity -0.731992\n",
       "2            citric acid -0.050533\n",
       "3         residual sugar  0.425001\n",
       "4              chlorides -0.043206\n",
       "5    free sulfur dioxide  0.285432\n",
       "6   total sulfur dioxide -0.455986\n",
       "7                density -0.183590\n",
       "8                     pH  0.158919\n",
       "9              sulphates  0.307096\n",
       "10               alcohol  0.993470"
      ]
     },
     "execution_count": 36,
     "metadata": {},
     "output_type": "execute_result"
    }
   ],
   "source": [
    "coeficientes_log=pd.DataFrame(np.transpose(logreg.coef_))\n",
    "cols=pd.DataFrame(np.transpose(feature_cols))\n",
    "coeficientes_log=pd.concat([cols, coeficientes_log], axis=1, ignore_index=True)\n",
    "coeficientes_log"
   ]
  },
  {
   "cell_type": "markdown",
   "metadata": {},
   "source": [
    "El coeficiente de la variable alcohol es mucho más grande que con las otras regresiones"
   ]
  },
  {
   "cell_type": "code",
   "execution_count": 37,
   "metadata": {},
   "outputs": [
    {
     "name": "stdout",
     "output_type": "stream",
     "text": [
      "El F1SCORE de la regresión logistica es: 0.8\n"
     ]
    }
   ],
   "source": [
    "from sklearn.metrics import f1_score\n",
    "print('El F1SCORE de la regresión logistica es:',f1_score(test['Calidad2'], test['Calidad2_pred']))"
   ]
  },
  {
   "cell_type": "markdown",
   "metadata": {},
   "source": [
    "# Exercise 6.10\n",
    "\n",
    "* Estimate a regularized logistic regression using:\n",
    "* C = 0.01, 0.1 & 1.0\n",
    "* penalty = ['l1, 'l2']\n",
    "* Compare the coefficients and the f1score"
   ]
  },
  {
   "cell_type": "code",
   "execution_count": 38,
   "metadata": {},
   "outputs": [],
   "source": [
    "X = train[feature_cols]\n",
    "y = train['Calidad2']\n",
    "\n",
    "output = []\n",
    "coeficientes_1 = cols##[]\n",
    "colnames_1 = []\n",
    "for C in [0.01, 0.1, 1]: ####Ciclo para recorrer los diferentes parametros c\n",
    "    for penalty in ['l1', 'l2']: ###Ciclo para recorrer las diferentes penalidades\n",
    "        logreg = LogisticRegression(C=C, penalty=penalty,solver='liblinear')\n",
    "        logreg.fit(X, y)###Hacer el .fit\n",
    "        test['Calidad2_pred']=logreg.predict(test[feature_cols]) ##Predecir en la base test\n",
    "        f1=f1_score(test['Calidad2'], test['Calidad2_pred']) ##Obtener el f1score de la predicción\n",
    "        output.append((C, penalty, f1)) ###Guardar\n",
    "        coeficientes_tmp=pd.DataFrame(np.transpose(logreg.coef_))\n",
    "        coeficientes_1=np.column_stack([coeficientes_1, coeficientes_tmp])"
   ]
  },
  {
   "cell_type": "code",
   "execution_count": 39,
   "metadata": {
    "scrolled": false
   },
   "outputs": [
    {
     "data": {
      "text/plain": [
       "[(0.01, 'l1', 0.7875443437130468),\n",
       " (0.01, 'l2', 0.7962456003128666),\n",
       " (0.1, 'l1', 0.7967097532314924),\n",
       " (0.1, 'l2', 0.7974931453192323),\n",
       " (1, 'l1', 0.8),\n",
       " (1, 'l2', 0.8)]"
      ]
     },
     "execution_count": 39,
     "metadata": {},
     "output_type": "execute_result"
    }
   ],
   "source": [
    "output"
   ]
  },
  {
   "cell_type": "code",
   "execution_count": 40,
   "metadata": {},
   "outputs": [
    {
     "data": {
      "text/html": [
       "<div>\n",
       "<style scoped>\n",
       "    .dataframe tbody tr th:only-of-type {\n",
       "        vertical-align: middle;\n",
       "    }\n",
       "\n",
       "    .dataframe tbody tr th {\n",
       "        vertical-align: top;\n",
       "    }\n",
       "\n",
       "    .dataframe thead th {\n",
       "        text-align: right;\n",
       "    }\n",
       "</style>\n",
       "<table border=\"1\" class=\"dataframe\">\n",
       "  <thead>\n",
       "    <tr style=\"text-align: right;\">\n",
       "      <th></th>\n",
       "      <th>Columna</th>\n",
       "      <th>C0.01-l1</th>\n",
       "      <th>C0.01-l2</th>\n",
       "      <th>C0.1-l1</th>\n",
       "      <th>C0.1-l2</th>\n",
       "      <th>C1-l1</th>\n",
       "      <th>C1-l2</th>\n",
       "    </tr>\n",
       "  </thead>\n",
       "  <tbody>\n",
       "    <tr>\n",
       "      <th>0</th>\n",
       "      <td>fixed acidity</td>\n",
       "      <td>0</td>\n",
       "      <td>0.0714325</td>\n",
       "      <td>0.0112451</td>\n",
       "      <td>0.116414</td>\n",
       "      <td>0.106023</td>\n",
       "      <td>0.125376</td>\n",
       "    </tr>\n",
       "    <tr>\n",
       "      <th>1</th>\n",
       "      <td>volatile acidity</td>\n",
       "      <td>-0.487509</td>\n",
       "      <td>-0.571524</td>\n",
       "      <td>-0.716833</td>\n",
       "      <td>-0.711714</td>\n",
       "      <td>-0.73547</td>\n",
       "      <td>-0.731992</td>\n",
       "    </tr>\n",
       "    <tr>\n",
       "      <th>2</th>\n",
       "      <td>citric acid</td>\n",
       "      <td>0</td>\n",
       "      <td>0.00319195</td>\n",
       "      <td>-0.0224336</td>\n",
       "      <td>-0.0431244</td>\n",
       "      <td>-0.0485249</td>\n",
       "      <td>-0.0505331</td>\n",
       "    </tr>\n",
       "    <tr>\n",
       "      <th>3</th>\n",
       "      <td>residual sugar</td>\n",
       "      <td>0.0184101</td>\n",
       "      <td>0.284498</td>\n",
       "      <td>0.282273</td>\n",
       "      <td>0.404412</td>\n",
       "      <td>0.400593</td>\n",
       "      <td>0.425001</td>\n",
       "    </tr>\n",
       "    <tr>\n",
       "      <th>4</th>\n",
       "      <td>chlorides</td>\n",
       "      <td>0</td>\n",
       "      <td>-0.0804598</td>\n",
       "      <td>-0.042682</td>\n",
       "      <td>-0.0486987</td>\n",
       "      <td>-0.0436126</td>\n",
       "      <td>-0.0432062</td>\n",
       "    </tr>\n",
       "    <tr>\n",
       "      <th>5</th>\n",
       "      <td>free sulfur dioxide</td>\n",
       "      <td>0</td>\n",
       "      <td>0.187351</td>\n",
       "      <td>0.24123</td>\n",
       "      <td>0.271713</td>\n",
       "      <td>0.282346</td>\n",
       "      <td>0.285432</td>\n",
       "    </tr>\n",
       "    <tr>\n",
       "      <th>6</th>\n",
       "      <td>total sulfur dioxide</td>\n",
       "      <td>0</td>\n",
       "      <td>-0.315986</td>\n",
       "      <td>-0.395642</td>\n",
       "      <td>-0.436671</td>\n",
       "      <td>-0.450444</td>\n",
       "      <td>-0.455986</td>\n",
       "    </tr>\n",
       "    <tr>\n",
       "      <th>7</th>\n",
       "      <td>density</td>\n",
       "      <td>0</td>\n",
       "      <td>-0.164238</td>\n",
       "      <td>0</td>\n",
       "      <td>-0.177536</td>\n",
       "      <td>-0.145791</td>\n",
       "      <td>-0.18359</td>\n",
       "    </tr>\n",
       "    <tr>\n",
       "      <th>8</th>\n",
       "      <td>pH</td>\n",
       "      <td>0</td>\n",
       "      <td>0.117753</td>\n",
       "      <td>0.0906646</td>\n",
       "      <td>0.152575</td>\n",
       "      <td>0.147411</td>\n",
       "      <td>0.158919</td>\n",
       "    </tr>\n",
       "    <tr>\n",
       "      <th>9</th>\n",
       "      <td>sulphates</td>\n",
       "      <td>0.108705</td>\n",
       "      <td>0.251638</td>\n",
       "      <td>0.267951</td>\n",
       "      <td>0.300177</td>\n",
       "      <td>0.301681</td>\n",
       "      <td>0.307096</td>\n",
       "    </tr>\n",
       "    <tr>\n",
       "      <th>10</th>\n",
       "      <td>alcohol</td>\n",
       "      <td>0.822609</td>\n",
       "      <td>0.787328</td>\n",
       "      <td>1.04604</td>\n",
       "      <td>0.968627</td>\n",
       "      <td>1.01034</td>\n",
       "      <td>0.99347</td>\n",
       "    </tr>\n",
       "  </tbody>\n",
       "</table>\n",
       "</div>"
      ],
      "text/plain": [
       "                 Columna   C0.01-l1    C0.01-l2    C0.1-l1    C0.1-l2  \\\n",
       "0          fixed acidity          0   0.0714325  0.0112451   0.116414   \n",
       "1       volatile acidity  -0.487509   -0.571524  -0.716833  -0.711714   \n",
       "2            citric acid          0  0.00319195 -0.0224336 -0.0431244   \n",
       "3         residual sugar  0.0184101    0.284498   0.282273   0.404412   \n",
       "4              chlorides          0  -0.0804598  -0.042682 -0.0486987   \n",
       "5    free sulfur dioxide          0    0.187351    0.24123   0.271713   \n",
       "6   total sulfur dioxide          0   -0.315986  -0.395642  -0.436671   \n",
       "7                density          0   -0.164238          0  -0.177536   \n",
       "8                     pH          0    0.117753  0.0906646   0.152575   \n",
       "9              sulphates   0.108705    0.251638   0.267951   0.300177   \n",
       "10               alcohol   0.822609    0.787328    1.04604   0.968627   \n",
       "\n",
       "        C1-l1      C1-l2  \n",
       "0    0.106023   0.125376  \n",
       "1    -0.73547  -0.731992  \n",
       "2  -0.0485249 -0.0505331  \n",
       "3    0.400593   0.425001  \n",
       "4  -0.0436126 -0.0432062  \n",
       "5    0.282346   0.285432  \n",
       "6   -0.450444  -0.455986  \n",
       "7   -0.145791   -0.18359  \n",
       "8    0.147411   0.158919  \n",
       "9    0.301681   0.307096  \n",
       "10    1.01034    0.99347  "
      ]
     },
     "execution_count": 40,
     "metadata": {},
     "output_type": "execute_result"
    }
   ],
   "source": [
    "coeficientes_1=pd.DataFrame(coeficientes_1)\n",
    "coeficientes_1.columns=(['Columna','C0.01-l1','C0.01-l2','C0.1-l1','C0.1-l2','C1-l1','C1-l2'])\n",
    "coeficientes_1"
   ]
  },
  {
   "cell_type": "markdown",
   "metadata": {},
   "source": [
    "Disminuir el valor de C hace que algunas de las variables dejen de tener importancia si se utiliza la penalidad l1, para el caso de la penalidad l2 se tiene que si bien las variables tienen coeficientes menores para valores de c mas pequeños estos no se vuelven cero como en el caso de la penalidad l1"
   ]
  },
  {
   "cell_type": "markdown",
   "metadata": {},
   "source": [
    "En el caso del f1Score el mayor se presenta con c=0.1 y penalidad =l1, aún así las variaciones en el f1score no son tan grandes al hacer modificaciones en el modelo"
   ]
  }
 ],
 "metadata": {
  "kernelspec": {
   "display_name": "Python 3",
   "language": "python",
   "name": "python3"
  },
  "language_info": {
   "codemirror_mode": {
    "name": "ipython",
    "version": 3
   },
   "file_extension": ".py",
   "mimetype": "text/x-python",
   "name": "python",
   "nbconvert_exporter": "python",
   "pygments_lexer": "ipython3",
   "version": "3.6.5"
  }
 },
 "nbformat": 4,
 "nbformat_minor": 1
}
