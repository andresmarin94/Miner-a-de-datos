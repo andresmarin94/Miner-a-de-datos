{
 "cells": [
  {
   "cell_type": "markdown",
   "metadata": {},
   "source": [
    "# Project 2\n",
    "\n",
    "\n",
    "# Movie Genre Classification\n",
    "\n",
    "Classify a movie genre based on its plot.\n",
    "\n",
    "<img src=\"moviegenre.png\"\n",
    "     style=\"float: left; margin-right: 10px;\" />\n",
    "\n",
    "\n",
    "\n",
    "\n",
    "https://www.kaggle.com/c/miia4200-20191-p2-moviegenreclassification/overview\n",
    "\n",
    "\n",
    "### Data\n",
    "\n",
    "Input:\n",
    "- movie plot\n",
    "\n",
    "Output:\n",
    "Probability of the movie belong to each genre\n",
    "\n",
    "\n",
    "### Evaluation\n",
    "\n",
    "- 20% API\n",
    "- 30% Create a solution using with a Machine Learning algorithm - Presentation (5 slides)\n",
    "- 50% Performance in the Kaggle competition (Normalized acording to class performance in the private leaderboard)\n",
    "\n",
    "\n",
    "### Acknowledgements\n",
    "\n",
    "We thank Professor Fabio Gonzalez, Ph.D. and his student John Arevalo for providing this dataset.\n",
    "\n",
    "See https://arxiv.org/abs/1702.01992"
   ]
  },
  {
   "cell_type": "markdown",
   "metadata": {},
   "source": [
    "## Sample Submission"
   ]
  },
  {
   "cell_type": "code",
   "execution_count": 88,
   "metadata": {},
   "outputs": [],
   "source": [
    "import pandas as pd\n",
    "import os\n",
    "import numpy as np\n",
    "from sklearn.feature_extraction.text import CountVectorizer, TfidfVectorizer\n",
    "from sklearn.preprocessing import MultiLabelBinarizer\n",
    "from sklearn.multiclass import OneVsRestClassifier\n",
    "from sklearn.ensemble import RandomForestRegressor, RandomForestClassifier,AdaBoostClassifier,GradientBoostingClassifier,BaggingClassifier\n",
    "from sklearn.metrics import r2_score, roc_auc_score\n",
    "from sklearn.model_selection import train_test_split\n",
    "from sklearn.tree import DecisionTreeClassifier\n",
    "from nltk.stem import WordNetLemmatizer\n",
    "import nltk\n",
    "import xgboost\n",
    "from sklearn.linear_model import LogisticRegression"
   ]
  },
  {
   "cell_type": "code",
   "execution_count": 3,
   "metadata": {},
   "outputs": [],
   "source": [
    "import re"
   ]
  },
  {
   "cell_type": "code",
   "execution_count": 222,
   "metadata": {},
   "outputs": [],
   "source": [
    "dataTraining = pd.read_csv('https://github.com/albahnsen/PracticalMachineLearningClass/raw/master/datasets/dataTraining.zip', encoding='UTF-8', index_col=0)\n",
    "dataTesting = pd.read_csv('https://github.com/albahnsen/PracticalMachineLearningClass/raw/master/datasets/dataTesting.zip', encoding='UTF-8', index_col=0)"
   ]
  },
  {
   "cell_type": "markdown",
   "metadata": {},
   "source": [
    "### Create count vectorizer\n"
   ]
  },
  {
   "cell_type": "code",
   "execution_count": 223,
   "metadata": {},
   "outputs": [],
   "source": [
    "\n",
    "dataTraining['title']=dataTraining['title'].str.lower()\n",
    "dataTraining['title']=dataTraining['title'].str.replace(',', '') \n",
    "\n",
    "dataTraining['title']=dataTraining['title'].str.replace('.', '') \n",
    "dataTraining['title']=dataTraining['title'].str.replace('-', '') \n",
    "dataTraining['title']=dataTraining['title'].str.replace('_', '') \n"
   ]
  },
  {
   "cell_type": "code",
   "execution_count": 224,
   "metadata": {},
   "outputs": [],
   "source": [
    "dataTraining['plot']=dataTraining['plot'].str.lower()\n",
    "dataTraining['plot']=dataTraining['plot'].str.replace(',', '') \n",
    "dataTraining['plot']=dataTraining['plot'].str.replace('.', '') \n",
    "dataTraining['plot']=dataTraining['plot'].str.replace('-', '') \n",
    "dataTraining['plot']=dataTraining['plot'].str.replace('_', '') "
   ]
  },
  {
   "cell_type": "code",
   "execution_count": 225,
   "metadata": {},
   "outputs": [],
   "source": [
    "wordnet_lemmatizer = WordNetLemmatizer()"
   ]
  },
  {
   "cell_type": "code",
   "execution_count": 226,
   "metadata": {},
   "outputs": [],
   "source": [
    "dataTraining['uno']= dataTraining['title']+dataTraining['plot']"
   ]
  },
  {
   "cell_type": "code",
   "execution_count": 228,
   "metadata": {},
   "outputs": [
    {
     "data": {
      "text/plain": [
       "(7895, 21371)"
      ]
     },
     "execution_count": 228,
     "metadata": {},
     "output_type": "execute_result"
    }
   ],
   "source": [
    "wordnet_lemmatizer = WordNetLemmatizer()\n",
    "def split_into_lemmas(text):\n",
    "    text = text.lower()\n",
    "    words = text.split()\n",
    "    return [wordnet_lemmatizer.lemmatize(word, 's') for word in words]\n",
    "\n",
    "vect = TfidfVectorizer(analyzer=split_into_lemmas, min_df=2,max_features=None,sublinear_tf=True,\n",
    "                       strip_accents='unicode',ngram_range=(1,2),stop_words='english')\n",
    "\n",
    "X_dtm = vect.fit_transform(dataTraining['uno'],dataTraining['year'])\n",
    "X_dtm.shape"
   ]
  },
  {
   "cell_type": "markdown",
   "metadata": {},
   "source": [
    "### Create y"
   ]
  },
  {
   "cell_type": "code",
   "execution_count": 229,
   "metadata": {},
   "outputs": [],
   "source": [
    "dataTraining['genres'] = dataTraining['genres'].map(lambda x: eval(x))\n",
    "\n",
    "le = MultiLabelBinarizer()\n",
    "y_genres = le.fit_transform(dataTraining['genres'])"
   ]
  },
  {
   "cell_type": "code",
   "execution_count": 230,
   "metadata": {},
   "outputs": [],
   "source": [
    "X_train, X_test, y_train_genres, y_test_genres = train_test_split(X_dtm, y_genres, test_size=0.33, random_state=42)"
   ]
  },
  {
   "cell_type": "markdown",
   "metadata": {},
   "source": [
    "### Train multi-class multi-label model"
   ]
  },
  {
   "cell_type": "code",
   "execution_count": 21,
   "metadata": {},
   "outputs": [],
   "source": [
    "\n",
    "#clf = OneVsRestClassifier(RandomForestClassifier(n_jobs=-1,max_depth=10,n_estimators=1000, random_state=60,criterion='entropy'))"
   ]
  },
  {
   "cell_type": "code",
   "execution_count": 231,
   "metadata": {},
   "outputs": [
    {
     "data": {
      "text/plain": [
       "OneVsRestClassifier(estimator=LogisticRegression(C=1.5, class_weight=None, dual=False, fit_intercept=True,\n",
       "          intercept_scaling=1, max_iter=100, multi_class='multinomial',\n",
       "          n_jobs=None, penalty='l2', random_state=42, solver='newton-cg',\n",
       "          tol=0.0001, verbose=0, warm_start=True),\n",
       "          n_jobs=None)"
      ]
     },
     "execution_count": 231,
     "metadata": {},
     "output_type": "execute_result"
    }
   ],
   "source": [
    "LogReg_Model = OneVsRestClassifier(LogisticRegression(multi_class='multinomial',solver='newton-cg',C=1.5,\n",
    "                                                     warm_start=True,penalty='l2',random_state=42))\n",
    "\n",
    "\n",
    "LogReg_Model.fit(X_train, y_train_genres)"
   ]
  },
  {
   "cell_type": "code",
   "execution_count": 232,
   "metadata": {},
   "outputs": [],
   "source": [
    "y_pred_genres = LogReg_Model.predict_proba(X_test)"
   ]
  },
  {
   "cell_type": "code",
   "execution_count": 233,
   "metadata": {},
   "outputs": [
    {
     "data": {
      "text/plain": [
       "0.8878224926750639"
      ]
     },
     "execution_count": 233,
     "metadata": {},
     "output_type": "execute_result"
    }
   ],
   "source": [
    "roc_auc_score(y_test_genres, y_pred_genres, average='macro')"
   ]
  },
  {
   "cell_type": "markdown",
   "metadata": {},
   "source": [
    "### Predict the testing dataset"
   ]
  },
  {
   "cell_type": "code",
   "execution_count": 111,
   "metadata": {},
   "outputs": [],
   "source": [
    "X_test_dtm = vect.transform(dataTesting['plot'])\n",
    "\n",
    "cols = ['p_Action', 'p_Adventure', 'p_Animation', 'p_Biography', 'p_Comedy', 'p_Crime', 'p_Documentary', 'p_Drama', 'p_Family',\n",
    "        'p_Fantasy', 'p_Film-Noir', 'p_History', 'p_Horror', 'p_Music', 'p_Musical', 'p_Mystery', 'p_News', 'p_Romance',\n",
    "        'p_Sci-Fi', 'p_Short', 'p_Sport', 'p_Thriller', 'p_War', 'p_Western']\n",
    "\n",
    "y_pred_test_genres = LogReg_Model.predict_proba(X_test_dtm)\n"
   ]
  },
  {
   "cell_type": "code",
   "execution_count": 112,
   "metadata": {},
   "outputs": [],
   "source": [
    "res = pd.DataFrame(y_pred_test_genres, index=dataTesting.index, columns=cols)"
   ]
  },
  {
   "cell_type": "code",
   "execution_count": 16,
   "metadata": {},
   "outputs": [
    {
     "data": {
      "text/html": [
       "<div>\n",
       "<style scoped>\n",
       "    .dataframe tbody tr th:only-of-type {\n",
       "        vertical-align: middle;\n",
       "    }\n",
       "\n",
       "    .dataframe tbody tr th {\n",
       "        vertical-align: top;\n",
       "    }\n",
       "\n",
       "    .dataframe thead th {\n",
       "        text-align: right;\n",
       "    }\n",
       "</style>\n",
       "<table border=\"1\" class=\"dataframe\">\n",
       "  <thead>\n",
       "    <tr style=\"text-align: right;\">\n",
       "      <th></th>\n",
       "      <th>p_Action</th>\n",
       "      <th>p_Adventure</th>\n",
       "      <th>p_Animation</th>\n",
       "      <th>p_Biography</th>\n",
       "      <th>p_Comedy</th>\n",
       "      <th>p_Crime</th>\n",
       "      <th>p_Documentary</th>\n",
       "      <th>p_Drama</th>\n",
       "      <th>p_Family</th>\n",
       "      <th>p_Fantasy</th>\n",
       "      <th>...</th>\n",
       "      <th>p_Musical</th>\n",
       "      <th>p_Mystery</th>\n",
       "      <th>p_News</th>\n",
       "      <th>p_Romance</th>\n",
       "      <th>p_Sci-Fi</th>\n",
       "      <th>p_Short</th>\n",
       "      <th>p_Sport</th>\n",
       "      <th>p_Thriller</th>\n",
       "      <th>p_War</th>\n",
       "      <th>p_Western</th>\n",
       "    </tr>\n",
       "  </thead>\n",
       "  <tbody>\n",
       "    <tr>\n",
       "      <th>1</th>\n",
       "      <td>0.143030</td>\n",
       "      <td>0.101960</td>\n",
       "      <td>0.024454</td>\n",
       "      <td>0.029938</td>\n",
       "      <td>0.354552</td>\n",
       "      <td>0.138830</td>\n",
       "      <td>0.030787</td>\n",
       "      <td>0.490140</td>\n",
       "      <td>0.073159</td>\n",
       "      <td>0.101339</td>\n",
       "      <td>...</td>\n",
       "      <td>0.025069</td>\n",
       "      <td>0.063208</td>\n",
       "      <td>0.000000</td>\n",
       "      <td>0.362818</td>\n",
       "      <td>0.056648</td>\n",
       "      <td>0.008970</td>\n",
       "      <td>0.017522</td>\n",
       "      <td>0.202605</td>\n",
       "      <td>0.033989</td>\n",
       "      <td>0.018117</td>\n",
       "    </tr>\n",
       "    <tr>\n",
       "      <th>4</th>\n",
       "      <td>0.122624</td>\n",
       "      <td>0.085786</td>\n",
       "      <td>0.024213</td>\n",
       "      <td>0.084795</td>\n",
       "      <td>0.370949</td>\n",
       "      <td>0.216657</td>\n",
       "      <td>0.080359</td>\n",
       "      <td>0.515684</td>\n",
       "      <td>0.062976</td>\n",
       "      <td>0.067019</td>\n",
       "      <td>...</td>\n",
       "      <td>0.024734</td>\n",
       "      <td>0.060935</td>\n",
       "      <td>0.000477</td>\n",
       "      <td>0.149703</td>\n",
       "      <td>0.058190</td>\n",
       "      <td>0.014248</td>\n",
       "      <td>0.020099</td>\n",
       "      <td>0.204794</td>\n",
       "      <td>0.030438</td>\n",
       "      <td>0.018506</td>\n",
       "    </tr>\n",
       "    <tr>\n",
       "      <th>5</th>\n",
       "      <td>0.151364</td>\n",
       "      <td>0.110284</td>\n",
       "      <td>0.013762</td>\n",
       "      <td>0.075334</td>\n",
       "      <td>0.304837</td>\n",
       "      <td>0.448736</td>\n",
       "      <td>0.021010</td>\n",
       "      <td>0.611544</td>\n",
       "      <td>0.081741</td>\n",
       "      <td>0.169121</td>\n",
       "      <td>...</td>\n",
       "      <td>0.044538</td>\n",
       "      <td>0.261372</td>\n",
       "      <td>0.000000</td>\n",
       "      <td>0.335987</td>\n",
       "      <td>0.128505</td>\n",
       "      <td>0.001016</td>\n",
       "      <td>0.048658</td>\n",
       "      <td>0.423242</td>\n",
       "      <td>0.052693</td>\n",
       "      <td>0.025351</td>\n",
       "    </tr>\n",
       "    <tr>\n",
       "      <th>6</th>\n",
       "      <td>0.154448</td>\n",
       "      <td>0.125772</td>\n",
       "      <td>0.020991</td>\n",
       "      <td>0.064124</td>\n",
       "      <td>0.340779</td>\n",
       "      <td>0.140892</td>\n",
       "      <td>0.009133</td>\n",
       "      <td>0.632038</td>\n",
       "      <td>0.068287</td>\n",
       "      <td>0.063631</td>\n",
       "      <td>...</td>\n",
       "      <td>0.131074</td>\n",
       "      <td>0.088418</td>\n",
       "      <td>0.000000</td>\n",
       "      <td>0.197224</td>\n",
       "      <td>0.132208</td>\n",
       "      <td>0.001432</td>\n",
       "      <td>0.039743</td>\n",
       "      <td>0.269385</td>\n",
       "      <td>0.077607</td>\n",
       "      <td>0.017862</td>\n",
       "    </tr>\n",
       "    <tr>\n",
       "      <th>7</th>\n",
       "      <td>0.175143</td>\n",
       "      <td>0.210069</td>\n",
       "      <td>0.035476</td>\n",
       "      <td>0.032505</td>\n",
       "      <td>0.313850</td>\n",
       "      <td>0.243150</td>\n",
       "      <td>0.021793</td>\n",
       "      <td>0.427885</td>\n",
       "      <td>0.079781</td>\n",
       "      <td>0.143879</td>\n",
       "      <td>...</td>\n",
       "      <td>0.023859</td>\n",
       "      <td>0.090359</td>\n",
       "      <td>0.000048</td>\n",
       "      <td>0.205117</td>\n",
       "      <td>0.241663</td>\n",
       "      <td>0.002634</td>\n",
       "      <td>0.018403</td>\n",
       "      <td>0.259465</td>\n",
       "      <td>0.021569</td>\n",
       "      <td>0.017585</td>\n",
       "    </tr>\n",
       "  </tbody>\n",
       "</table>\n",
       "<p>5 rows × 24 columns</p>\n",
       "</div>"
      ],
      "text/plain": [
       "   p_Action  p_Adventure  p_Animation  p_Biography  p_Comedy   p_Crime  \\\n",
       "1  0.143030     0.101960     0.024454     0.029938  0.354552  0.138830   \n",
       "4  0.122624     0.085786     0.024213     0.084795  0.370949  0.216657   \n",
       "5  0.151364     0.110284     0.013762     0.075334  0.304837  0.448736   \n",
       "6  0.154448     0.125772     0.020991     0.064124  0.340779  0.140892   \n",
       "7  0.175143     0.210069     0.035476     0.032505  0.313850  0.243150   \n",
       "\n",
       "   p_Documentary   p_Drama  p_Family  p_Fantasy    ...      p_Musical  \\\n",
       "1       0.030787  0.490140  0.073159   0.101339    ...       0.025069   \n",
       "4       0.080359  0.515684  0.062976   0.067019    ...       0.024734   \n",
       "5       0.021010  0.611544  0.081741   0.169121    ...       0.044538   \n",
       "6       0.009133  0.632038  0.068287   0.063631    ...       0.131074   \n",
       "7       0.021793  0.427885  0.079781   0.143879    ...       0.023859   \n",
       "\n",
       "   p_Mystery    p_News  p_Romance  p_Sci-Fi   p_Short   p_Sport  p_Thriller  \\\n",
       "1   0.063208  0.000000   0.362818  0.056648  0.008970  0.017522    0.202605   \n",
       "4   0.060935  0.000477   0.149703  0.058190  0.014248  0.020099    0.204794   \n",
       "5   0.261372  0.000000   0.335987  0.128505  0.001016  0.048658    0.423242   \n",
       "6   0.088418  0.000000   0.197224  0.132208  0.001432  0.039743    0.269385   \n",
       "7   0.090359  0.000048   0.205117  0.241663  0.002634  0.018403    0.259465   \n",
       "\n",
       "      p_War  p_Western  \n",
       "1  0.033989   0.018117  \n",
       "4  0.030438   0.018506  \n",
       "5  0.052693   0.025351  \n",
       "6  0.077607   0.017862  \n",
       "7  0.021569   0.017585  \n",
       "\n",
       "[5 rows x 24 columns]"
      ]
     },
     "execution_count": 16,
     "metadata": {},
     "output_type": "execute_result"
    }
   ],
   "source": [
    "res.head()"
   ]
  },
  {
   "cell_type": "code",
   "execution_count": 113,
   "metadata": {},
   "outputs": [],
   "source": [
    "res.to_csv('pred_genres_text_RF5.csv', index_label='ID')"
   ]
  }
 ],
 "metadata": {
  "kernelspec": {
   "display_name": "Python 3",
   "language": "python",
   "name": "python3"
  },
  "language_info": {
   "codemirror_mode": {
    "name": "ipython",
    "version": 3
   },
   "file_extension": ".py",
   "mimetype": "text/x-python",
   "name": "python",
   "nbconvert_exporter": "python",
   "pygments_lexer": "ipython3",
   "version": "3.7.0"
  }
 },
 "nbformat": 4,
 "nbformat_minor": 1
}
